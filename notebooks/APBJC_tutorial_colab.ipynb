{
  "cells": [
    {
      "cell_type": "markdown",
      "metadata": {
        "id": "view-in-github",
        "colab_type": "text"
      },
      "source": [
        "<a href=\"https://colab.research.google.com/github/matcyr/APBJC2024_GNN_Tutorial/blob/master/notebooks/APBJC_tutorial_colab.ipynb\" target=\"_parent\"><img src=\"https://colab.research.google.com/assets/colab-badge.svg\" alt=\"Open In Colab\"/></a>"
      ]
    },
    {
      "cell_type": "markdown",
      "metadata": {
        "id": "5t7kg0PQNpQg"
      },
      "source": [
        "# A Tutorial to Drug Response Prediction using Graph Neural Network"
      ]
    },
    {
      "cell_type": "markdown",
      "metadata": {
        "id": "2Lx1vWTuhCcR"
      },
      "source": [
        "![Status](https://img.shields.io/static/v1.svg?label=Status&message=Finished&color=green)\n",
        "\n",
        "**Tutorial Notebook:**\n",
        "[![View on Github](https://img.shields.io/static/v1.svg?logo=github&label=Repo&message=View%20On%20Github&color=lightgrey)](https://github.com/matcyr/APBJC2024_GNN_Tutorial/blob/master/notebooks/APBJC_tutorial.ipynb)\n",
        "[![Open In Collab](https://colab.research.google.com/assets/colab-badge.svg)](https://colab.research.google.com/github/matcyr/APBJC2024_GNN_Tutorial/blob/master/notebooks/APBJC_tutorial_colab.ipynb)  \n",
        "\n",
        "**Authors and Presenters:**\n",
        "\n",
        "- **Prof. Dennis Wang** <sup>1, 3, 4, 5</sup>, [dennis_wang@sics.a-star.edu.sg](mailto:dennis_wang@sics.a-star.edu.sg)\n",
        "- **Dr. Evelyn Lau** <sup>1</sup>, [evelyn_lau@sics.a-star.edu.sg](mailto:evelyn_lau@sics.a-star.edu.sg)\n",
        "- **Yurui Chen** <sup>1, 2</sup>, [chenyr@sics.a-star.edu.sg](mailto:chenyr@sics.a-star.edu.sg) [![GitHub](https://img.shields.io/static/v1.svg?logo=github&label=GitHub&message=Yurui%20Chen&color=lightgrey)](https://github.com/matcyr)\n",
        "\n",
        "**Affiliations:**\n",
        "\n",
        "1. Institute for Human Development and Potential (IHDP), Agency for Science, Technology and Research (A*STAR), Singapore\n",
        "\n",
        "2. Department of Mathematics, National University of Singapore, Singapore, Republic of Singapore\n",
        "\n",
        "3. A*STAR Bioinformatics Institute (BII), Singapore\n",
        "\n",
        "4. National Heart and Lung Institute, Imperial College London, London, UK\n",
        "\n",
        "5. Department of Computer Science, The University of Sheffield, Sheffield, UK\n",
        "\n",
        "---\n",
        "**Recent Publications**:\n",
        "- Chen Y., Zhang L.* (2022) How much can deep learning improve prediction of the responses to drugs in cancer cell lines? *Briefings in Bioinformatics*, 23(1):bbab378, 2022. [https://doi.org/10.1093/bib/bbab378](https://doi.org/10.1093/bib/bbab378)\n",
        "\n",
        "- Chen Y., Zhang L.* (2024) Hi-GeoMVP: hierarchical geometry enhanced multi-view graph neural network for drug response prediction. *Bioinformatics*. [https://doi.org/10.1093/bioinformatics/btae204](https://doi.org/10.1093/bioinformatics/btae204)\n",
        "\n",
        "- Giraldo JJ., Lau E., Dharmapalan S., Parker M., Chen Y., Alvarez M., Wang D.* (2023) Multi-output prediction of dose-response curves enable drug repositioning and biomarker discovery. *npj Precision Oncology*, 2024.[https://doi.org/10.1038/s41698-024-00691-x](https://doi.org/10.1038/s41698-024-00691-x)\n",
        "\n",
        "\n"
      ]
    },
    {
      "cell_type": "markdown",
      "metadata": {
        "id": "16NmXaNohCcS"
      },
      "source": [
        "\n",
        "\n",
        "Drug response prediction is an important area of research in precision medicine. The goal is to predict how different drugs will affect a particular cell line or patient, which can help in tailoring personalized treatment plans.\n",
        "\n",
        "In this tutorial, we will build a Graph Neural Network (GNN) model to predict drug responses based on features derived from both the drugs and the target cells. The GNN approach is particularly well-suited for learning a vector (representation) from a small molecule graph.\n",
        "\n",
        "We will cover data processing, building the model, and running predictions step by step.\n",
        "\n",
        "\n",
        "## Learning Objectives\n",
        "\n",
        "By the end of this tutorial, you will:\n",
        "\n",
        "- **Aim 1**: Understand the basics of the drug response prediction problem. (Sec. 1~3)\n",
        "  - 1.1: Learn what constitutes drug response data (features: genomics + chemical, outcome: drug response).\n",
        "  - 1.2: Understand the components of machine learning and deep learning pipelines in this context.\n",
        "  \n",
        "- **Aim 2**: Gain foundational knowledge on processing small molecule data. (Sec. 4)\n",
        "  - 2.1: Understand the importance of structural information for small molecules.\n",
        "  - 2.2: Learn how to derive a chemical graph from SMILES (a string-based representation for molecules) and visualize it.\n",
        "  - 2.3: Understand how to mathematically represent a graph.\n",
        "  - 2.4: Prepare the required inputs for the Graph Neural Network (GNN).\n",
        "\n",
        "- **Aim 3**: Learn the basics of Graph Neural Networks (GCN and GIN). (Sec. 5)\n",
        "  \n",
        "- **Aim 4**: Follow a pipeline to train and evaluate machine learning and deep learning models for drug response prediction. (Sec. 6)\n",
        "  - 4.1: Define the deep learning model using GNN.\n",
        "  - 4.2: Train and test the model.\n",
        "  - 4.3: Visualize model performance.\n",
        "  - 4.4: Compare the GNN model with baseline models."
      ]
    },
    {
      "cell_type": "markdown",
      "metadata": {
        "id": "bhKOxmdwhCcT"
      },
      "source": [
        "# 1. Machine Learning for Drug Development"
      ]
    },
    {
      "cell_type": "markdown",
      "metadata": {
        "id": "P0CnuAcDhCcT"
      },
      "source": [
        "\n",
        "<img src=\"https://github.com/matcyr/APBJC2024_GNN_Tutorial/blob/master/Figures/intro/fig1.png?raw=1\" alt=\"drug_discovery\" width=\"800\" height=\"500\">\n",
        "\n",
        "Drug development takes many years starting from thousands of candidate compounds. Many fail to be beneficial for patients and do not receive regulatory approval (e.g. FDA). Smarter ways to screen for drugs are needed in order to save the industry time and money."
      ]
    },
    {
      "cell_type": "markdown",
      "metadata": {
        "id": "swqQ1rl4hCcT"
      },
      "source": [
        "## 1.1 Drug Response on Cancer Cell-lines\n",
        "<img src=\"https://github.com/matcyr/APBJC2024_GNN_Tutorial/blob/master/Figures/intro/fig2.png?raw=1\" alt=\"GDSC_project\" width=\"800\" height=\"300\">\n",
        "\n",
        "The effectiveness of cancer drugs are often measured in the lab before being given to patients. Different concentrations of a drug are tested to see how effective it is at killing cancer cells.\n",
        "\n",
        "A dose-response curve is generated showing the relationship between drug concentration and cell response (e.g. viability). Measures such as IC50, the concentration required to inhibit the cell by half, can be used to describe response of a drug.\n"
      ]
    },
    {
      "cell_type": "markdown",
      "metadata": {
        "id": "bIfHxuF7hCcT"
      },
      "source": [
        "<img src=\"https://github.com/matcyr/APBJC2024_GNN_Tutorial/blob/master/Figures/intro/fig3.png?raw=1\" alt=\"GDSC_project\" width=\"1200\" height=\"300\">\n",
        "\n",
        "From the dose-response curve, we can identify conditions when the cell is sensitive to a drug and when it does not respond. The cell’s genetics and the chemistry of the drug are often the determinants of response.\n"
      ]
    },
    {
      "cell_type": "markdown",
      "metadata": {
        "id": "oRoeBQXJhCcT"
      },
      "source": [
        "## 1.2 Machine Learning Predicts Drug Response\n",
        "<img src=\"https://github.com/matcyr/APBJC2024_GNN_Tutorial/blob/master/Figures/intro/fig4.png?raw=1\" alt=\"GDSC_project\" width=\"800\" height=\"500\">\n",
        "\n",
        "\n",
        "Empirically testing a large library of chemical structures to get the desired dose-response can be very resource intensive and expensive. Fortunately, many drug screening experiments have already been done, and we can use machine learning to predict the response of a drug based on its chemical structure.\n"
      ]
    },
    {
      "cell_type": "markdown",
      "metadata": {
        "id": "dShYVWOh7M49"
      },
      "source": [
        "## Setup\n",
        "Before we start, Let's setup the required environment first:"
      ]
    },
    {
      "cell_type": "code",
      "source": [
        "import os\n",
        "\n",
        "# Define the repository details\n",
        "repo_name = \"APBJC2024_GNN_Tutorial\"\n",
        "repo_url = \"https://github.com/matcyr/APBJC2024_GNN_Tutorial\"\n",
        "\n",
        "# Check if the repository directory exists\n",
        "if not os.path.isdir(repo_name):\n",
        "    # Clone the repository only if it doesn't exist\n",
        "    !git clone {repo_url}\n",
        "else:\n",
        "    print(f\"Repository '{repo_name}' already exists. Skipping clone.\")\n",
        "\n",
        "# Change directory to the notebooks folder\n",
        "notebooks_path = os.path.join(repo_name, \"notebooks\")\n",
        "os.chdir(notebooks_path)\n",
        "print(\"Current working directory:\", os.getcwd())"
      ],
      "metadata": {
        "id": "h0Iu905Zkzft",
        "outputId": "edcf6f15-9872-4d15-d8a9-5a22c919ff31",
        "colab": {
          "base_uri": "https://localhost:8080/"
        }
      },
      "execution_count": 2,
      "outputs": [
        {
          "output_type": "stream",
          "name": "stdout",
          "text": [
            "Repository 'APBJC2024_GNN_Tutorial' already exists. Skipping clone.\n",
            "Current working directory: /content/APBJC2024_GNN_Tutorial/notebooks\n"
          ]
        }
      ]
    },
    {
      "cell_type": "code",
      "execution_count": 2,
      "metadata": {
        "id": "_Ovco53l7M4-",
        "outputId": "d8af86d8-4477-4a16-acc3-089f5dd01ef1",
        "colab": {
          "base_uri": "https://localhost:8080/"
        }
      },
      "outputs": [
        {
          "output_type": "stream",
          "name": "stdout",
          "text": [
            "Requirement already satisfied: openpyxl in /usr/local/lib/python3.11/dist-packages (3.1.5)\n",
            "Requirement already satisfied: et-xmlfile in /usr/local/lib/python3.11/dist-packages (from openpyxl) (2.0.0)\n",
            "Requirement already satisfied: pyarrow in /usr/local/lib/python3.11/dist-packages (18.1.0)\n",
            "Collecting fastparquet\n",
            "  Downloading fastparquet-2024.11.0-cp311-cp311-manylinux_2_17_x86_64.manylinux2014_x86_64.whl.metadata (4.2 kB)\n",
            "Requirement already satisfied: pandas>=1.5.0 in /usr/local/lib/python3.11/dist-packages (from fastparquet) (2.2.2)\n",
            "Requirement already satisfied: numpy in /usr/local/lib/python3.11/dist-packages (from fastparquet) (2.0.2)\n",
            "Requirement already satisfied: cramjam>=2.3 in /usr/local/lib/python3.11/dist-packages (from fastparquet) (2.9.1)\n",
            "Requirement already satisfied: fsspec in /usr/local/lib/python3.11/dist-packages (from fastparquet) (2025.3.2)\n",
            "Requirement already satisfied: packaging in /usr/local/lib/python3.11/dist-packages (from fastparquet) (24.2)\n",
            "Requirement already satisfied: python-dateutil>=2.8.2 in /usr/local/lib/python3.11/dist-packages (from pandas>=1.5.0->fastparquet) (2.8.2)\n",
            "Requirement already satisfied: pytz>=2020.1 in /usr/local/lib/python3.11/dist-packages (from pandas>=1.5.0->fastparquet) (2025.2)\n",
            "Requirement already satisfied: tzdata>=2022.7 in /usr/local/lib/python3.11/dist-packages (from pandas>=1.5.0->fastparquet) (2025.2)\n",
            "Requirement already satisfied: six>=1.5 in /usr/local/lib/python3.11/dist-packages (from python-dateutil>=2.8.2->pandas>=1.5.0->fastparquet) (1.17.0)\n",
            "Downloading fastparquet-2024.11.0-cp311-cp311-manylinux_2_17_x86_64.manylinux2014_x86_64.whl (1.8 MB)\n",
            "\u001b[2K   \u001b[90m━━━━━━━━━━━━━━━━━━━━━━━━━━━━━━━━━━━━━━━━\u001b[0m \u001b[32m1.8/1.8 MB\u001b[0m \u001b[31m18.4 MB/s\u001b[0m eta \u001b[36m0:00:00\u001b[0m\n",
            "\u001b[?25hInstalling collected packages: fastparquet\n",
            "Successfully installed fastparquet-2024.11.0\n",
            "Collecting pubchempy\n",
            "  Downloading PubChemPy-1.0.4.tar.gz (29 kB)\n",
            "  Preparing metadata (setup.py) ... \u001b[?25l\u001b[?25hdone\n",
            "Building wheels for collected packages: pubchempy\n",
            "  Building wheel for pubchempy (setup.py) ... \u001b[?25l\u001b[?25hdone\n",
            "  Created wheel for pubchempy: filename=PubChemPy-1.0.4-py3-none-any.whl size=13818 sha256=6282f99ceaa28f34671f2ff92bedeb9b46dc8b0793e4d8233ca5cd92a71d2272\n",
            "  Stored in directory: /root/.cache/pip/wheels/8b/e3/6c/3385b2db08b0985a87f5b117f98d0cb61a3ae3ca3bcbbd8307\n",
            "Successfully built pubchempy\n",
            "Installing collected packages: pubchempy\n",
            "Successfully installed pubchempy-1.0.4\n",
            "Collecting rdkit-pypi\n",
            "  Downloading rdkit_pypi-2022.9.5-cp311-cp311-manylinux_2_17_x86_64.manylinux2014_x86_64.whl.metadata (3.9 kB)\n",
            "Requirement already satisfied: numpy in /usr/local/lib/python3.11/dist-packages (from rdkit-pypi) (2.0.2)\n",
            "Requirement already satisfied: Pillow in /usr/local/lib/python3.11/dist-packages (from rdkit-pypi) (11.1.0)\n",
            "Downloading rdkit_pypi-2022.9.5-cp311-cp311-manylinux_2_17_x86_64.manylinux2014_x86_64.whl (29.4 MB)\n",
            "\u001b[2K   \u001b[90m━━━━━━━━━━━━━━━━━━━━━━━━━━━━━━━━━━━━━━━━\u001b[0m \u001b[32m29.4/29.4 MB\u001b[0m \u001b[31m52.6 MB/s\u001b[0m eta \u001b[36m0:00:00\u001b[0m\n",
            "\u001b[?25hInstalling collected packages: rdkit-pypi\n",
            "Successfully installed rdkit-pypi-2022.9.5\n",
            "Collecting torch-geometric\n",
            "  Downloading torch_geometric-2.6.1-py3-none-any.whl.metadata (63 kB)\n",
            "\u001b[2K     \u001b[90m━━━━━━━━━━━━━━━━━━━━━━━━━━━━━━━━━━━━━━━━\u001b[0m \u001b[32m63.1/63.1 kB\u001b[0m \u001b[31m1.9 MB/s\u001b[0m eta \u001b[36m0:00:00\u001b[0m\n",
            "\u001b[?25hRequirement already satisfied: aiohttp in /usr/local/lib/python3.11/dist-packages (from torch-geometric) (3.11.15)\n",
            "Requirement already satisfied: fsspec in /usr/local/lib/python3.11/dist-packages (from torch-geometric) (2025.3.2)\n",
            "Requirement already satisfied: jinja2 in /usr/local/lib/python3.11/dist-packages (from torch-geometric) (3.1.6)\n",
            "Requirement already satisfied: numpy in /usr/local/lib/python3.11/dist-packages (from torch-geometric) (2.0.2)\n",
            "Requirement already satisfied: psutil>=5.8.0 in /usr/local/lib/python3.11/dist-packages (from torch-geometric) (5.9.5)\n",
            "Requirement already satisfied: pyparsing in /usr/local/lib/python3.11/dist-packages (from torch-geometric) (3.2.3)\n",
            "Requirement already satisfied: requests in /usr/local/lib/python3.11/dist-packages (from torch-geometric) (2.32.3)\n",
            "Requirement already satisfied: tqdm in /usr/local/lib/python3.11/dist-packages (from torch-geometric) (4.67.1)\n",
            "Requirement already satisfied: aiohappyeyeballs>=2.3.0 in /usr/local/lib/python3.11/dist-packages (from aiohttp->torch-geometric) (2.6.1)\n",
            "Requirement already satisfied: aiosignal>=1.1.2 in /usr/local/lib/python3.11/dist-packages (from aiohttp->torch-geometric) (1.3.2)\n",
            "Requirement already satisfied: attrs>=17.3.0 in /usr/local/lib/python3.11/dist-packages (from aiohttp->torch-geometric) (25.3.0)\n",
            "Requirement already satisfied: frozenlist>=1.1.1 in /usr/local/lib/python3.11/dist-packages (from aiohttp->torch-geometric) (1.5.0)\n",
            "Requirement already satisfied: multidict<7.0,>=4.5 in /usr/local/lib/python3.11/dist-packages (from aiohttp->torch-geometric) (6.3.2)\n",
            "Requirement already satisfied: propcache>=0.2.0 in /usr/local/lib/python3.11/dist-packages (from aiohttp->torch-geometric) (0.3.1)\n",
            "Requirement already satisfied: yarl<2.0,>=1.17.0 in /usr/local/lib/python3.11/dist-packages (from aiohttp->torch-geometric) (1.18.3)\n",
            "Requirement already satisfied: MarkupSafe>=2.0 in /usr/local/lib/python3.11/dist-packages (from jinja2->torch-geometric) (3.0.2)\n",
            "Requirement already satisfied: charset-normalizer<4,>=2 in /usr/local/lib/python3.11/dist-packages (from requests->torch-geometric) (3.4.1)\n",
            "Requirement already satisfied: idna<4,>=2.5 in /usr/local/lib/python3.11/dist-packages (from requests->torch-geometric) (3.10)\n",
            "Requirement already satisfied: urllib3<3,>=1.21.1 in /usr/local/lib/python3.11/dist-packages (from requests->torch-geometric) (2.3.0)\n",
            "Requirement already satisfied: certifi>=2017.4.17 in /usr/local/lib/python3.11/dist-packages (from requests->torch-geometric) (2025.1.31)\n",
            "Downloading torch_geometric-2.6.1-py3-none-any.whl (1.1 MB)\n",
            "\u001b[2K   \u001b[90m━━━━━━━━━━━━━━━━━━━━━━━━━━━━━━━━━━━━━━━━\u001b[0m \u001b[32m1.1/1.1 MB\u001b[0m \u001b[31m19.8 MB/s\u001b[0m eta \u001b[36m0:00:00\u001b[0m\n",
            "\u001b[?25hInstalling collected packages: torch-geometric\n",
            "Successfully installed torch-geometric-2.6.1\n"
          ]
        }
      ],
      "source": [
        "# Install necessary dependencies\n",
        "!pip install openpyxl\n",
        "!pip install pyarrow\n",
        "!pip install fastparquet\n",
        "\n",
        "# Install dependencies for processing drug data\n",
        "!pip install pubchempy\n",
        "!pip install rdkit-pypi  # Install rdkit from PyPI instead of rdkit\n",
        "# Install torch geometric dependencies\n",
        "!pip install torch-geometric"
      ]
    },
    {
      "cell_type": "markdown",
      "metadata": {
        "id": "F1GDbjV4NpQi"
      },
      "source": [
        "# 2. Drug Response Dataset\n",
        "\n",
        "In this tutorial, we use the **Genomics of Drug Sensitivity in Cancer (GDSC)** as our dataset. The GDSC project is a comprehensive resource aimed at identifying the molecular characteristics of cancer cells that predict sensitivity to anti-cancer drugs. It integrates drug response data from thousands of cell lines with genomic, transcriptomic, and proteomic features to study the impact of genetic variants on drug sensitivity.\n",
        "\n",
        "## Learning Objectives\n",
        "In this Section, we will try to focus on **Aim 1.1**.\n"
      ]
    },
    {
      "cell_type": "markdown",
      "metadata": {
        "id": "3hN9k-mTNpQj"
      },
      "source": [
        "<!-- ![GDSC Project Overview](https://github.com/matcyr/APBJC2024_GNN_Tutorial/blob/master/Figures/GDSC_project.png?raw=1) -->\n",
        "<img src=\"https://github.com/matcyr/APBJC2024_GNN_Tutorial/blob/master/Figures/GDSC_project.png?raw=1\" alt=\"GDSC_project\" width=\"900\" height=\"400\">\n",
        "\n",
        "*Overview of the GDSC project from the paper \"A Landscape of Pharmacogenomic Interactions in Cancer\" by Iorio et al., published in Cell, Volume 166, Issue 3, pages 740 - 754 (2016).*\n",
        "\n",
        "---\n",
        "\n",
        "#### GDSC Dataset\n",
        "\n",
        "**GDSC1** represents the initial phase of the GDSC project, with screenings conducted **before 2015**. This dataset includes:\n",
        "\n",
        "- **970 cancer cell lines**.\n",
        "- **403 drugs** focused primarily on well-established therapeutic agents.\n",
        "\n",
        "\n",
        "**GDSC2** is the expanded phase of the project, with data generated **after 2015**. It includes:\n",
        "\n",
        "- **969 cancer cell lines**, with some overlap but also new cell lines not present in GDSC1.\n",
        "- **297 drugs**, including newer experimental compounds targeting a broader range of cancer pathways.\n",
        "\n",
        "---\n",
        "\n",
        "In this notebook, we will focus on **GDSC2**, as it provides more recent and comprehensive data on drug responses across a wider array of compounds, making it suitable for analyzing modern cancer therapies.\n",
        "\n"
      ]
    },
    {
      "cell_type": "code",
      "execution_count": 4,
      "metadata": {
        "colab": {
          "base_uri": "https://localhost:8080/"
        },
        "id": "lA3HhX4zNpQj",
        "outputId": "ba1b963c-1836-4018-9f07-90d326288ebb"
      },
      "outputs": [
        {
          "output_type": "stream",
          "name": "stdout",
          "text": [
            "-----------------\n",
            "The first 5 rows of the GDSC data:\n",
            "  DATASET  NLME_RESULT_ID  NLME_CURVE_ID  COSMIC_ID CELL_LINE_NAME  \\\n",
            "0   GDSC2             343       15946310     683667         PFSK-1   \n",
            "1   GDSC2             343       15946548     684052           A673   \n",
            "2   GDSC2             343       15946830     684057            ES5   \n",
            "3   GDSC2             343       15947087     684059            ES7   \n",
            "4   GDSC2             343       15947369     684062          EW-11   \n",
            "\n",
            "  SANGER_MODEL_ID     TCGA_DESC  DRUG_ID     DRUG_NAME PUTATIVE_TARGET  \\\n",
            "0       SIDM01132            MB     1003  Camptothecin            TOP1   \n",
            "1       SIDM00848  UNCLASSIFIED     1003  Camptothecin            TOP1   \n",
            "2       SIDM00263  UNCLASSIFIED     1003  Camptothecin            TOP1   \n",
            "3       SIDM00269  UNCLASSIFIED     1003  Camptothecin            TOP1   \n",
            "4       SIDM00203  UNCLASSIFIED     1003  Camptothecin            TOP1   \n",
            "\n",
            "      PATHWAY_NAME  COMPANY_ID WEBRELEASE  MIN_CONC  MAX_CONC   LN_IC50  \\\n",
            "0  DNA replication        1046          Y    0.0001       0.1 -1.463887   \n",
            "1  DNA replication        1046          Y    0.0001       0.1 -4.869455   \n",
            "2  DNA replication        1046          Y    0.0001       0.1 -3.360586   \n",
            "3  DNA replication        1046          Y    0.0001       0.1 -5.044940   \n",
            "4  DNA replication        1046          Y    0.0001       0.1 -3.741991   \n",
            "\n",
            "        AUC      RMSE   Z_SCORE  \n",
            "0  0.930220  0.089052  0.433123  \n",
            "1  0.614970  0.111351 -1.421100  \n",
            "2  0.791072  0.142855 -0.599569  \n",
            "3  0.592660  0.135539 -1.516647  \n",
            "4  0.734047  0.128059 -0.807232  \n",
            "-----------------\n",
            "Drug Meta data already exists\n",
            "-----------------\n",
            "The first 5 rows of the Drug Information:\n",
            "   Drug Id            Name  Synonyms                            Targets  \\\n",
            "0     1073  5-Fluorouracil      5-FU         Antimetabolite (DNA & RNA)   \n",
            "1     1910          ABT737       NaN  BCL2, BCL-XL,  BCL-W, BCL-B, BFL1   \n",
            "2     1913        AGI-5198   IDH-C35                       IDH1 (R132H)   \n",
            "3     1634        AGI-6780  AK162157                  IDH2 R140Q mutant   \n",
            "4     2045         AMG-319    AMG319                PI3K (beta sparing)   \n",
            "\n",
            "         Target pathway   PubCHEM Datasets  number of cell lines  \\\n",
            "0                 Other      3385    GDSC2                   968   \n",
            "1  Apoptosis regulation  11228183    GDSC2                   957   \n",
            "2            Metabolism  56645356    GDSC2                   958   \n",
            "3            Metabolism  71299339    GDSC2                   893   \n",
            "4   PI3K/MTOR signaling  68947304    GDSC2                   950   \n",
            "\n",
            "  Screening site                                             SMILES  \n",
            "0         SANGER                               C1=C(C(=O)NC(=O)N1)F  \n",
            "1         SANGER  CN(C)CC[C@H](CSC1=CC=CC=C1)NC2=C(C=C(C=C2)S(=O...  \n",
            "2         SANGER  CC1=CC=CC=C1C(C(=O)NC2CCCCC2)N(C3=CC(=CC=C3)F)...  \n",
            "3         SANGER  C1CC1NS(=O)(=O)C2=CC(=C(C=C2)C3=CSC=C3)NC(=O)N...  \n",
            "4         SANGER  C[C@@H](C1=C(N=C2C=C(C=CC2=C1)F)C3=CC=CC=N3)NC...  \n",
            "-----------------\n",
            "Gene Expression data already exists\n",
            "-----------------\n",
            "The first 5 rows of the Gene Expression Data:\n",
            "GENE_SYMBOLS    TSPAN6      TNMD       DPM1     SCYL3  C1ORF112       FGR  \\\n",
            "683667        7.780713  2.753253   9.960137  4.351073  3.716740  3.222277   \n",
            "684052        7.301344  2.890533   9.922489  4.125088  3.678987  3.096576   \n",
            "684057        8.233101  2.824687  10.015883  4.749715  3.839433  3.142755   \n",
            "684059        8.333467  3.966757   9.793991  3.976923  3.505669  3.079943   \n",
            "684062        8.391340  2.968360  10.260679  4.295876  4.129471  3.318760   \n",
            "\n",
            "GENE_SYMBOLS       CFH     FUCA2      GCLC      NFYA  ...  LINC00526  \\\n",
            "683667        8.221606  3.823474  4.756228  5.805642  ...   3.347520   \n",
            "684052        3.588391  4.809305  4.951782  5.089165  ...   5.054260   \n",
            "684057        5.329830  3.272124  5.538055  6.428482  ...   6.261573   \n",
            "684059        3.373640  4.199048  5.794734  5.902391  ...   3.885425   \n",
            "684062        7.103957  3.447994  5.988207  6.257495  ...   5.584552   \n",
            "\n",
            "GENE_SYMBOLS      PPY2  unknown_gene_315  unknown_gene_316  KRT18P55  \\\n",
            "683667        3.230712          3.032447          9.040972  3.102091   \n",
            "684052        3.003521          2.874737          8.532759  3.068187   \n",
            "684057        3.031862          3.370459          8.930821  3.322455   \n",
            "684059        2.993918          2.843472          8.246666  3.219777   \n",
            "684062        2.959515          2.952987          8.625519  3.056066   \n",
            "\n",
            "GENE_SYMBOLS  unknown_gene_317  POLRMTP1    UBL5P2  TBC1D3P5  unknown_gene_318  \n",
            "683667                2.870875  3.169188  9.810431  3.266915          8.452080  \n",
            "684052                2.874065  3.135479  9.073222  3.098364          6.824238  \n",
            "684057                3.083922  2.813440  8.893197  3.266184          8.758288  \n",
            "684059                3.683564  3.033869  8.691401  3.279230          8.236238  \n",
            "684062                3.059551  3.127004  9.396461  3.217885          7.248236  \n",
            "\n",
            "[5 rows x 17737 columns]\n",
            "-----------------\n",
            "Final DataFrame already exists\n",
            "-----------------\n",
            "The first 5 rows of the Drug Response Data:\n",
            "   PubCHEM  COSMIC_ID   LN_IC50\n",
            "0    24360     683667 -1.463887\n",
            "1    24360     684052 -4.869455\n",
            "2    24360     684057 -3.360586\n",
            "3    24360     684059 -5.044940\n",
            "4    24360     684062 -3.741991\n",
            "-----------------\n"
          ]
        }
      ],
      "source": [
        "import pandas as pd\n",
        "import os\n",
        "import pubchempy as pcp\n",
        "import sys\n",
        "sys.path.append(os.path.abspath(os.path.join(os.getcwd(), '..')))\n",
        "from utils import *\n",
        "from Model.DRP_GNN import DrpModel\n",
        "# Initialize the class with appropriate URLs\n",
        "processor = GDSCProcessor(\n",
        "    gdsc_link='https://cog.sanger.ac.uk/cancerrxgene/GDSC_release8.5/GDSC2_fitted_dose_response_27Oct23.xlsx',\n",
        "    drug_meta_link='https://www.cancerrxgene.org/api/compounds?list=all&export=csv',\n",
        "    exp_data_link='https://www.cancerrxgene.org/gdsc1000/GDSC1000_WebResources//Data/preprocessed/Cell_line_RMA_proc_basalExp.txt.zip',\n",
        "    verbose = True,\n",
        "    data_path = '../Data/'\n",
        ")\n",
        "# Run the full process\n",
        "processor.run()"
      ]
    },
    {
      "cell_type": "code",
      "source": [
        "!pip install \"numpy<2\""
      ],
      "metadata": {
        "id": "TG25F3gLxv1s",
        "outputId": "25a07a36-207f-412a-cbc8-f85ceff48da2",
        "colab": {
          "base_uri": "https://localhost:8080/"
        }
      },
      "execution_count": 3,
      "outputs": [
        {
          "output_type": "stream",
          "name": "stdout",
          "text": [
            "Collecting numpy<2\n",
            "  Downloading numpy-1.26.4-cp311-cp311-manylinux_2_17_x86_64.manylinux2014_x86_64.whl.metadata (61 kB)\n",
            "\u001b[?25l     \u001b[90m━━━━━━━━━━━━━━━━━━━━━━━━━━━━━━━━━━━━━━━━\u001b[0m \u001b[32m0.0/61.0 kB\u001b[0m \u001b[31m?\u001b[0m eta \u001b[36m-:--:--\u001b[0m\r\u001b[2K     \u001b[90m━━━━━━━━━━━━━━━━━━━━━━━━━━━━━━━━━━━━━━━━\u001b[0m \u001b[32m61.0/61.0 kB\u001b[0m \u001b[31m2.5 MB/s\u001b[0m eta \u001b[36m0:00:00\u001b[0m\n",
            "\u001b[?25hDownloading numpy-1.26.4-cp311-cp311-manylinux_2_17_x86_64.manylinux2014_x86_64.whl (18.3 MB)\n",
            "\u001b[2K   \u001b[90m━━━━━━━━━━━━━━━━━━━━━━━━━━━━━━━━━━━━━━━━\u001b[0m \u001b[32m18.3/18.3 MB\u001b[0m \u001b[31m56.9 MB/s\u001b[0m eta \u001b[36m0:00:00\u001b[0m\n",
            "\u001b[?25hInstalling collected packages: numpy\n",
            "  Attempting uninstall: numpy\n",
            "    Found existing installation: numpy 2.0.2\n",
            "    Uninstalling numpy-2.0.2:\n",
            "      Successfully uninstalled numpy-2.0.2\n",
            "\u001b[31mERROR: pip's dependency resolver does not currently take into account all the packages that are installed. This behaviour is the source of the following dependency conflicts.\n",
            "thinc 8.3.6 requires numpy<3.0.0,>=2.0.0, but you have numpy 1.26.4 which is incompatible.\u001b[0m\u001b[31m\n",
            "\u001b[0mSuccessfully installed numpy-1.26.4\n"
          ]
        }
      ]
    },
    {
      "cell_type": "markdown",
      "metadata": {
        "id": "VjutDB1hhCcU"
      },
      "source": [
        "## 2.1 Overview of the Drug Response Prediction"
      ]
    },
    {
      "cell_type": "markdown",
      "metadata": {
        "id": "ZmzZqAFphCcU"
      },
      "source": [
        "<img src=\"https://github.com/matcyr/APBJC2024_GNN_Tutorial/blob/master/Figures/DRP_overview.png?raw=1\" alt=\"DRPoverview\" width=\"900\" height=\"400\">"
      ]
    },
    {
      "cell_type": "markdown",
      "metadata": {
        "id": "Rc6JNOk0NpQk"
      },
      "source": [
        "## 2.2 Cancer Cell Lines\n",
        "\n",
        "Cancer cell lines (CCLs) are used as model systems for studying drug response and genetic features of cancer. The GDSC dataset includes CCLs derived from a variety of cancer types, including breast, lung, colon, and many more. Each CCL has its own set of molecular features, such as gene expression data, mutation status, and copy number variations. In this notebook, we use the RNAseq data, as the omic feature.\n"
      ]
    },
    {
      "cell_type": "markdown",
      "metadata": {
        "id": "edhbyT2CNpQk"
      },
      "source": [
        "### Summary of Cancer Types in GDSC2\n",
        "\n",
        "After processing the dataset, we identified **31 distinct cancer types** (excluding the `UNCLASSIFIED` category). Each cancer type is associated with a unique number of cell lines, which can be used to analyze drug sensitivity patterns.\n",
        "\n",
        "In the GDSC2 dataset, there is one category labeled `UNCLASSIFIED`, representing cell lines that do not fall into the predefined cancer types. For this analysis, we have excluded the `UNCLASSIFIED` category and focused on the main cancer types."
      ]
    },
    {
      "cell_type": "code",
      "execution_count": 5,
      "metadata": {
        "colab": {
          "base_uri": "https://localhost:8080/"
        },
        "id": "XVF9_hvMNpQk",
        "outputId": "f5a198a2-5b58-4fc1-dd3c-65ada6d4f33a"
      },
      "outputs": [
        {
          "output_type": "stream",
          "name": "stdout",
          "text": [
            "There are 31 cancer types and one 'UNCLASSIFIED' cancer in GDSC2.\n"
          ]
        }
      ],
      "source": [
        "cancer_df = processor.df.groupby('TCGA_DESC')['COSMIC_ID'].nunique().reset_index()\n",
        "cancer_df.set_index('TCGA_DESC', inplace=True)\n",
        "cancer_df.columns = ['Number of Unique Cell Lines']\n",
        "cancer_df.sort_values('Number of Unique Cell Lines', ascending=False, inplace=True)\n",
        "## Drop UNCLASSIFIED and nan in 'TCGA_DESC'\n",
        "cancer_df = cancer_df[cancer_df.index != 'UNCLASSIFIED'].dropna()\n",
        "print(f'There are {len(cancer_df)} cancer types and one \\'UNCLASSIFIED\\' cancer in GDSC2.')"
      ]
    },
    {
      "cell_type": "markdown",
      "metadata": {
        "id": "kNWsRf-_NpQk"
      },
      "source": [
        "### Top 10 Cancer Types by Number of Unique Cell Lines\n",
        "\n",
        "The table below shows the **top 10 cancer types** with the highest number of unique cell lines in the GDSC2 dataset:\n",
        "\n",
        "| Cancer Type (TCGA_DESC) | Number of Unique Cell Lines |\n",
        "|-------------------------|-----------------------------|\n",
        "| LUAD (Lung Adenocarcinoma)     | 62                          |\n",
        "| SCLC (Small Cell Lung Cancer)  | 59                          |\n",
        "| SKCM (Skin Cutaneous Melanoma) | 54                          |\n",
        "| BRCA (Breast Cancer)           | 51                          |\n",
        "| COREAD (Colorectal Cancer)     | 46                          |\n",
        "| HNSC (Head and Neck Cancer)    | 39                          |\n",
        "| ESCA (Esophageal Cancer)       | 35                          |\n",
        "| DLBC (Diffuse Large B-Cell Lymphoma) | 34                   |\n",
        "| GBM (Glioblastoma Multiforme)  | 34                          |\n",
        "| OV (Ovarian Cancer)            | 34                          |\n",
        "\n",
        "These cancer types represent the most frequently occurring cancer cell lines in the dataset and provide a broad range of data for drug sensitivity analysis.\n"
      ]
    },
    {
      "cell_type": "code",
      "execution_count": 6,
      "metadata": {
        "colab": {
          "base_uri": "https://localhost:8080/"
        },
        "id": "iUlHP8BBNpQk",
        "outputId": "2d1b7ee0-9a0c-42ec-e9e7-9e4bbb275d04"
      },
      "outputs": [
        {
          "output_type": "stream",
          "name": "stdout",
          "text": [
            "           Number of Unique Cell Lines\n",
            "TCGA_DESC                             \n",
            "LUAD                                62\n",
            "SCLC                                59\n",
            "SKCM                                54\n",
            "BRCA                                51\n",
            "COREAD                              46\n"
          ]
        }
      ],
      "source": [
        "print(cancer_df.head(5))"
      ]
    },
    {
      "cell_type": "markdown",
      "metadata": {
        "id": "5hKFN8vmBAAr"
      },
      "source": [
        "\n",
        "### Key Aspects of CCL Data:\n",
        "- **COSMIC_ID**: A unique identifier for each CCL, provided by the Catalogue of Somatic Mutations in Cancer (COSMIC) database.\n",
        "- **Gene Expression Profiles**: RNA sequencing data that provides the expression levels of thousands of genes across different CCLs.\n",
        "<!-- - **Mutation Data**: Information on specific mutations found in each CCL, which may contribute to drug sensitivity or resistance. -->\n",
        "\n",
        "By linking drug response data to CCL molecular features, we can investigate the relationships between genetic alterations and drug efficacy."
      ]
    },
    {
      "cell_type": "code",
      "execution_count": 7,
      "metadata": {
        "colab": {
          "base_uri": "https://localhost:8080/",
          "height": 256
        },
        "id": "oqiyfwL6BFst",
        "outputId": "28b1e3e3-983b-4744-e6ee-ff3132923ccb"
      },
      "outputs": [
        {
          "output_type": "execute_result",
          "data": {
            "text/plain": [
              "GENE_SYMBOLS    TSPAN6      TNMD       DPM1     SCYL3  C1ORF112       FGR  \\\n",
              "683667        7.780713  2.753253   9.960137  4.351073  3.716740  3.222277   \n",
              "684052        7.301344  2.890533   9.922489  4.125088  3.678987  3.096576   \n",
              "684057        8.233101  2.824687  10.015883  4.749715  3.839433  3.142755   \n",
              "684059        8.333467  3.966757   9.793991  3.976923  3.505669  3.079943   \n",
              "684062        8.391340  2.968360  10.260679  4.295876  4.129471  3.318760   \n",
              "\n",
              "GENE_SYMBOLS       CFH     FUCA2      GCLC      NFYA  ...  LINC00526  \\\n",
              "683667        8.221606  3.823474  4.756228  5.805642  ...   3.347520   \n",
              "684052        3.588391  4.809305  4.951782  5.089165  ...   5.054260   \n",
              "684057        5.329830  3.272124  5.538055  6.428482  ...   6.261573   \n",
              "684059        3.373640  4.199048  5.794734  5.902391  ...   3.885425   \n",
              "684062        7.103957  3.447994  5.988207  6.257495  ...   5.584552   \n",
              "\n",
              "GENE_SYMBOLS      PPY2  unknown_gene_315  unknown_gene_316  KRT18P55  \\\n",
              "683667        3.230712          3.032447          9.040972  3.102091   \n",
              "684052        3.003521          2.874737          8.532759  3.068187   \n",
              "684057        3.031862          3.370459          8.930821  3.322455   \n",
              "684059        2.993918          2.843472          8.246666  3.219777   \n",
              "684062        2.959515          2.952987          8.625519  3.056066   \n",
              "\n",
              "GENE_SYMBOLS  unknown_gene_317  POLRMTP1    UBL5P2  TBC1D3P5  unknown_gene_318  \n",
              "683667                2.870875  3.169188  9.810431  3.266915          8.452080  \n",
              "684052                2.874065  3.135479  9.073222  3.098364          6.824238  \n",
              "684057                3.083922  2.813440  8.893197  3.266184          8.758288  \n",
              "684059                3.683564  3.033869  8.691401  3.279230          8.236238  \n",
              "684062                3.059551  3.127004  9.396461  3.217885          7.248236  \n",
              "\n",
              "[5 rows x 17737 columns]"
            ],
            "text/html": [
              "\n",
              "  <div id=\"df-1f65baf3-5149-4b1e-8bb2-326f3cbdf56c\" class=\"colab-df-container\">\n",
              "    <div>\n",
              "<style scoped>\n",
              "    .dataframe tbody tr th:only-of-type {\n",
              "        vertical-align: middle;\n",
              "    }\n",
              "\n",
              "    .dataframe tbody tr th {\n",
              "        vertical-align: top;\n",
              "    }\n",
              "\n",
              "    .dataframe thead th {\n",
              "        text-align: right;\n",
              "    }\n",
              "</style>\n",
              "<table border=\"1\" class=\"dataframe\">\n",
              "  <thead>\n",
              "    <tr style=\"text-align: right;\">\n",
              "      <th>GENE_SYMBOLS</th>\n",
              "      <th>TSPAN6</th>\n",
              "      <th>TNMD</th>\n",
              "      <th>DPM1</th>\n",
              "      <th>SCYL3</th>\n",
              "      <th>C1ORF112</th>\n",
              "      <th>FGR</th>\n",
              "      <th>CFH</th>\n",
              "      <th>FUCA2</th>\n",
              "      <th>GCLC</th>\n",
              "      <th>NFYA</th>\n",
              "      <th>...</th>\n",
              "      <th>LINC00526</th>\n",
              "      <th>PPY2</th>\n",
              "      <th>unknown_gene_315</th>\n",
              "      <th>unknown_gene_316</th>\n",
              "      <th>KRT18P55</th>\n",
              "      <th>unknown_gene_317</th>\n",
              "      <th>POLRMTP1</th>\n",
              "      <th>UBL5P2</th>\n",
              "      <th>TBC1D3P5</th>\n",
              "      <th>unknown_gene_318</th>\n",
              "    </tr>\n",
              "  </thead>\n",
              "  <tbody>\n",
              "    <tr>\n",
              "      <th>683667</th>\n",
              "      <td>7.780713</td>\n",
              "      <td>2.753253</td>\n",
              "      <td>9.960137</td>\n",
              "      <td>4.351073</td>\n",
              "      <td>3.716740</td>\n",
              "      <td>3.222277</td>\n",
              "      <td>8.221606</td>\n",
              "      <td>3.823474</td>\n",
              "      <td>4.756228</td>\n",
              "      <td>5.805642</td>\n",
              "      <td>...</td>\n",
              "      <td>3.347520</td>\n",
              "      <td>3.230712</td>\n",
              "      <td>3.032447</td>\n",
              "      <td>9.040972</td>\n",
              "      <td>3.102091</td>\n",
              "      <td>2.870875</td>\n",
              "      <td>3.169188</td>\n",
              "      <td>9.810431</td>\n",
              "      <td>3.266915</td>\n",
              "      <td>8.452080</td>\n",
              "    </tr>\n",
              "    <tr>\n",
              "      <th>684052</th>\n",
              "      <td>7.301344</td>\n",
              "      <td>2.890533</td>\n",
              "      <td>9.922489</td>\n",
              "      <td>4.125088</td>\n",
              "      <td>3.678987</td>\n",
              "      <td>3.096576</td>\n",
              "      <td>3.588391</td>\n",
              "      <td>4.809305</td>\n",
              "      <td>4.951782</td>\n",
              "      <td>5.089165</td>\n",
              "      <td>...</td>\n",
              "      <td>5.054260</td>\n",
              "      <td>3.003521</td>\n",
              "      <td>2.874737</td>\n",
              "      <td>8.532759</td>\n",
              "      <td>3.068187</td>\n",
              "      <td>2.874065</td>\n",
              "      <td>3.135479</td>\n",
              "      <td>9.073222</td>\n",
              "      <td>3.098364</td>\n",
              "      <td>6.824238</td>\n",
              "    </tr>\n",
              "    <tr>\n",
              "      <th>684057</th>\n",
              "      <td>8.233101</td>\n",
              "      <td>2.824687</td>\n",
              "      <td>10.015883</td>\n",
              "      <td>4.749715</td>\n",
              "      <td>3.839433</td>\n",
              "      <td>3.142755</td>\n",
              "      <td>5.329830</td>\n",
              "      <td>3.272124</td>\n",
              "      <td>5.538055</td>\n",
              "      <td>6.428482</td>\n",
              "      <td>...</td>\n",
              "      <td>6.261573</td>\n",
              "      <td>3.031862</td>\n",
              "      <td>3.370459</td>\n",
              "      <td>8.930821</td>\n",
              "      <td>3.322455</td>\n",
              "      <td>3.083922</td>\n",
              "      <td>2.813440</td>\n",
              "      <td>8.893197</td>\n",
              "      <td>3.266184</td>\n",
              "      <td>8.758288</td>\n",
              "    </tr>\n",
              "    <tr>\n",
              "      <th>684059</th>\n",
              "      <td>8.333467</td>\n",
              "      <td>3.966757</td>\n",
              "      <td>9.793991</td>\n",
              "      <td>3.976923</td>\n",
              "      <td>3.505669</td>\n",
              "      <td>3.079943</td>\n",
              "      <td>3.373640</td>\n",
              "      <td>4.199048</td>\n",
              "      <td>5.794734</td>\n",
              "      <td>5.902391</td>\n",
              "      <td>...</td>\n",
              "      <td>3.885425</td>\n",
              "      <td>2.993918</td>\n",
              "      <td>2.843472</td>\n",
              "      <td>8.246666</td>\n",
              "      <td>3.219777</td>\n",
              "      <td>3.683564</td>\n",
              "      <td>3.033869</td>\n",
              "      <td>8.691401</td>\n",
              "      <td>3.279230</td>\n",
              "      <td>8.236238</td>\n",
              "    </tr>\n",
              "    <tr>\n",
              "      <th>684062</th>\n",
              "      <td>8.391340</td>\n",
              "      <td>2.968360</td>\n",
              "      <td>10.260679</td>\n",
              "      <td>4.295876</td>\n",
              "      <td>4.129471</td>\n",
              "      <td>3.318760</td>\n",
              "      <td>7.103957</td>\n",
              "      <td>3.447994</td>\n",
              "      <td>5.988207</td>\n",
              "      <td>6.257495</td>\n",
              "      <td>...</td>\n",
              "      <td>5.584552</td>\n",
              "      <td>2.959515</td>\n",
              "      <td>2.952987</td>\n",
              "      <td>8.625519</td>\n",
              "      <td>3.056066</td>\n",
              "      <td>3.059551</td>\n",
              "      <td>3.127004</td>\n",
              "      <td>9.396461</td>\n",
              "      <td>3.217885</td>\n",
              "      <td>7.248236</td>\n",
              "    </tr>\n",
              "  </tbody>\n",
              "</table>\n",
              "<p>5 rows × 17737 columns</p>\n",
              "</div>\n",
              "    <div class=\"colab-df-buttons\">\n",
              "\n",
              "  <div class=\"colab-df-container\">\n",
              "    <button class=\"colab-df-convert\" onclick=\"convertToInteractive('df-1f65baf3-5149-4b1e-8bb2-326f3cbdf56c')\"\n",
              "            title=\"Convert this dataframe to an interactive table.\"\n",
              "            style=\"display:none;\">\n",
              "\n",
              "  <svg xmlns=\"http://www.w3.org/2000/svg\" height=\"24px\" viewBox=\"0 -960 960 960\">\n",
              "    <path d=\"M120-120v-720h720v720H120Zm60-500h600v-160H180v160Zm220 220h160v-160H400v160Zm0 220h160v-160H400v160ZM180-400h160v-160H180v160Zm440 0h160v-160H620v160ZM180-180h160v-160H180v160Zm440 0h160v-160H620v160Z\"/>\n",
              "  </svg>\n",
              "    </button>\n",
              "\n",
              "  <style>\n",
              "    .colab-df-container {\n",
              "      display:flex;\n",
              "      gap: 12px;\n",
              "    }\n",
              "\n",
              "    .colab-df-convert {\n",
              "      background-color: #E8F0FE;\n",
              "      border: none;\n",
              "      border-radius: 50%;\n",
              "      cursor: pointer;\n",
              "      display: none;\n",
              "      fill: #1967D2;\n",
              "      height: 32px;\n",
              "      padding: 0 0 0 0;\n",
              "      width: 32px;\n",
              "    }\n",
              "\n",
              "    .colab-df-convert:hover {\n",
              "      background-color: #E2EBFA;\n",
              "      box-shadow: 0px 1px 2px rgba(60, 64, 67, 0.3), 0px 1px 3px 1px rgba(60, 64, 67, 0.15);\n",
              "      fill: #174EA6;\n",
              "    }\n",
              "\n",
              "    .colab-df-buttons div {\n",
              "      margin-bottom: 4px;\n",
              "    }\n",
              "\n",
              "    [theme=dark] .colab-df-convert {\n",
              "      background-color: #3B4455;\n",
              "      fill: #D2E3FC;\n",
              "    }\n",
              "\n",
              "    [theme=dark] .colab-df-convert:hover {\n",
              "      background-color: #434B5C;\n",
              "      box-shadow: 0px 1px 3px 1px rgba(0, 0, 0, 0.15);\n",
              "      filter: drop-shadow(0px 1px 2px rgba(0, 0, 0, 0.3));\n",
              "      fill: #FFFFFF;\n",
              "    }\n",
              "  </style>\n",
              "\n",
              "    <script>\n",
              "      const buttonEl =\n",
              "        document.querySelector('#df-1f65baf3-5149-4b1e-8bb2-326f3cbdf56c button.colab-df-convert');\n",
              "      buttonEl.style.display =\n",
              "        google.colab.kernel.accessAllowed ? 'block' : 'none';\n",
              "\n",
              "      async function convertToInteractive(key) {\n",
              "        const element = document.querySelector('#df-1f65baf3-5149-4b1e-8bb2-326f3cbdf56c');\n",
              "        const dataTable =\n",
              "          await google.colab.kernel.invokeFunction('convertToInteractive',\n",
              "                                                    [key], {});\n",
              "        if (!dataTable) return;\n",
              "\n",
              "        const docLinkHtml = 'Like what you see? Visit the ' +\n",
              "          '<a target=\"_blank\" href=https://colab.research.google.com/notebooks/data_table.ipynb>data table notebook</a>'\n",
              "          + ' to learn more about interactive tables.';\n",
              "        element.innerHTML = '';\n",
              "        dataTable['output_type'] = 'display_data';\n",
              "        await google.colab.output.renderOutput(dataTable, element);\n",
              "        const docLink = document.createElement('div');\n",
              "        docLink.innerHTML = docLinkHtml;\n",
              "        element.appendChild(docLink);\n",
              "      }\n",
              "    </script>\n",
              "  </div>\n",
              "\n",
              "\n",
              "<div id=\"df-84e8bd64-d87b-49dc-898a-c50a65965fe2\">\n",
              "  <button class=\"colab-df-quickchart\" onclick=\"quickchart('df-84e8bd64-d87b-49dc-898a-c50a65965fe2')\"\n",
              "            title=\"Suggest charts\"\n",
              "            style=\"display:none;\">\n",
              "\n",
              "<svg xmlns=\"http://www.w3.org/2000/svg\" height=\"24px\"viewBox=\"0 0 24 24\"\n",
              "     width=\"24px\">\n",
              "    <g>\n",
              "        <path d=\"M19 3H5c-1.1 0-2 .9-2 2v14c0 1.1.9 2 2 2h14c1.1 0 2-.9 2-2V5c0-1.1-.9-2-2-2zM9 17H7v-7h2v7zm4 0h-2V7h2v10zm4 0h-2v-4h2v4z\"/>\n",
              "    </g>\n",
              "</svg>\n",
              "  </button>\n",
              "\n",
              "<style>\n",
              "  .colab-df-quickchart {\n",
              "      --bg-color: #E8F0FE;\n",
              "      --fill-color: #1967D2;\n",
              "      --hover-bg-color: #E2EBFA;\n",
              "      --hover-fill-color: #174EA6;\n",
              "      --disabled-fill-color: #AAA;\n",
              "      --disabled-bg-color: #DDD;\n",
              "  }\n",
              "\n",
              "  [theme=dark] .colab-df-quickchart {\n",
              "      --bg-color: #3B4455;\n",
              "      --fill-color: #D2E3FC;\n",
              "      --hover-bg-color: #434B5C;\n",
              "      --hover-fill-color: #FFFFFF;\n",
              "      --disabled-bg-color: #3B4455;\n",
              "      --disabled-fill-color: #666;\n",
              "  }\n",
              "\n",
              "  .colab-df-quickchart {\n",
              "    background-color: var(--bg-color);\n",
              "    border: none;\n",
              "    border-radius: 50%;\n",
              "    cursor: pointer;\n",
              "    display: none;\n",
              "    fill: var(--fill-color);\n",
              "    height: 32px;\n",
              "    padding: 0;\n",
              "    width: 32px;\n",
              "  }\n",
              "\n",
              "  .colab-df-quickchart:hover {\n",
              "    background-color: var(--hover-bg-color);\n",
              "    box-shadow: 0 1px 2px rgba(60, 64, 67, 0.3), 0 1px 3px 1px rgba(60, 64, 67, 0.15);\n",
              "    fill: var(--button-hover-fill-color);\n",
              "  }\n",
              "\n",
              "  .colab-df-quickchart-complete:disabled,\n",
              "  .colab-df-quickchart-complete:disabled:hover {\n",
              "    background-color: var(--disabled-bg-color);\n",
              "    fill: var(--disabled-fill-color);\n",
              "    box-shadow: none;\n",
              "  }\n",
              "\n",
              "  .colab-df-spinner {\n",
              "    border: 2px solid var(--fill-color);\n",
              "    border-color: transparent;\n",
              "    border-bottom-color: var(--fill-color);\n",
              "    animation:\n",
              "      spin 1s steps(1) infinite;\n",
              "  }\n",
              "\n",
              "  @keyframes spin {\n",
              "    0% {\n",
              "      border-color: transparent;\n",
              "      border-bottom-color: var(--fill-color);\n",
              "      border-left-color: var(--fill-color);\n",
              "    }\n",
              "    20% {\n",
              "      border-color: transparent;\n",
              "      border-left-color: var(--fill-color);\n",
              "      border-top-color: var(--fill-color);\n",
              "    }\n",
              "    30% {\n",
              "      border-color: transparent;\n",
              "      border-left-color: var(--fill-color);\n",
              "      border-top-color: var(--fill-color);\n",
              "      border-right-color: var(--fill-color);\n",
              "    }\n",
              "    40% {\n",
              "      border-color: transparent;\n",
              "      border-right-color: var(--fill-color);\n",
              "      border-top-color: var(--fill-color);\n",
              "    }\n",
              "    60% {\n",
              "      border-color: transparent;\n",
              "      border-right-color: var(--fill-color);\n",
              "    }\n",
              "    80% {\n",
              "      border-color: transparent;\n",
              "      border-right-color: var(--fill-color);\n",
              "      border-bottom-color: var(--fill-color);\n",
              "    }\n",
              "    90% {\n",
              "      border-color: transparent;\n",
              "      border-bottom-color: var(--fill-color);\n",
              "    }\n",
              "  }\n",
              "</style>\n",
              "\n",
              "  <script>\n",
              "    async function quickchart(key) {\n",
              "      const quickchartButtonEl =\n",
              "        document.querySelector('#' + key + ' button');\n",
              "      quickchartButtonEl.disabled = true;  // To prevent multiple clicks.\n",
              "      quickchartButtonEl.classList.add('colab-df-spinner');\n",
              "      try {\n",
              "        const charts = await google.colab.kernel.invokeFunction(\n",
              "            'suggestCharts', [key], {});\n",
              "      } catch (error) {\n",
              "        console.error('Error during call to suggestCharts:', error);\n",
              "      }\n",
              "      quickchartButtonEl.classList.remove('colab-df-spinner');\n",
              "      quickchartButtonEl.classList.add('colab-df-quickchart-complete');\n",
              "    }\n",
              "    (() => {\n",
              "      let quickchartButtonEl =\n",
              "        document.querySelector('#df-84e8bd64-d87b-49dc-898a-c50a65965fe2 button');\n",
              "      quickchartButtonEl.style.display =\n",
              "        google.colab.kernel.accessAllowed ? 'block' : 'none';\n",
              "    })();\n",
              "  </script>\n",
              "</div>\n",
              "\n",
              "    </div>\n",
              "  </div>\n"
            ],
            "application/vnd.google.colaboratory.intrinsic+json": {
              "type": "dataframe"
            }
          },
          "metadata": {},
          "execution_count": 7
        }
      ],
      "source": [
        "processor.exp_df.head()"
      ]
    },
    {
      "cell_type": "code",
      "execution_count": 8,
      "metadata": {
        "id": "yvrigTHWDXFa"
      },
      "outputs": [],
      "source": [
        "### Normalize the gene expression data\n",
        "from sklearn.preprocessing import StandardScaler\n",
        "scaler = StandardScaler()\n",
        "## apply it to the processor.exp_df\n",
        "processor.exp_df.iloc[:, :] = scaler.fit_transform(processor.exp_df.values)\n",
        "cosmics_to_idx = {cosmic_id: idx for idx, cosmic_id in enumerate(processor.exp_df.index)}"
      ]
    },
    {
      "cell_type": "code",
      "execution_count": 9,
      "metadata": {
        "colab": {
          "base_uri": "https://localhost:8080/",
          "height": 256
        },
        "id": "IUhBHrfODYqE",
        "outputId": "c4d04825-0c4a-483f-a812-6dacdb63b90c"
      },
      "outputs": [
        {
          "output_type": "execute_result",
          "data": {
            "text/plain": [
              "GENE_SYMBOLS    TSPAN6      TNMD      DPM1     SCYL3  C1ORF112       FGR  \\\n",
              "683667        0.575582 -0.486487 -0.132586  0.198957  0.056342 -0.286379   \n",
              "684052        0.321740  0.182039 -0.201310 -0.225674 -0.033172 -0.415334   \n",
              "684057        0.815137 -0.138618 -0.030825  0.948011  0.347257 -0.367960   \n",
              "684059        0.868284  5.423033 -0.435874 -0.504078 -0.444121 -0.432397   \n",
              "684062        0.898930  0.561040  0.416032  0.095239  1.034958 -0.187399   \n",
              "\n",
              "GENE_SYMBOLS       CFH     FUCA2      GCLC      NFYA  ...  LINC00526  \\\n",
              "683667        2.248935 -2.045783 -1.113481  0.880329  ...  -1.438214   \n",
              "684052       -0.499528 -1.453582 -0.930443 -0.222554  ...   0.162339   \n",
              "684057        0.533509 -2.376985 -0.381689  1.839076  ...   1.294538   \n",
              "684059       -0.626920 -1.820171 -0.141437  1.029256  ...  -0.933776   \n",
              "684062        1.585936 -2.271338  0.039655  1.575873  ...   0.659638   \n",
              "\n",
              "GENE_SYMBOLS      PPY2  unknown_gene_315  unknown_gene_316  KRT18P55  \\\n",
              "683667        0.682399         -0.561209          1.114135 -0.795939   \n",
              "684052       -0.735768         -1.019863          0.132397 -0.930297   \n",
              "684057       -0.558856          0.421798          0.901352  0.077360   \n",
              "684059       -0.795712         -1.110786         -0.420262 -0.329552   \n",
              "684062       -1.010460         -0.792296          0.311585 -0.978333   \n",
              "\n",
              "GENE_SYMBOLS  unknown_gene_317  POLRMTP1    UBL5P2  TBC1D3P5  unknown_gene_318  \n",
              "683667               -0.500820  0.074128  1.053064 -0.448461          1.078083  \n",
              "684052               -0.498385 -0.055235 -0.406608 -1.380961         -0.956245  \n",
              "684057               -0.338151 -1.291130 -0.763058 -0.452506          1.460755  \n",
              "684059                0.119700 -0.445186 -1.162615 -0.380330          0.808345  \n",
              "684062               -0.356759 -0.087761  0.233406 -0.719715         -0.426370  \n",
              "\n",
              "[5 rows x 17737 columns]"
            ],
            "text/html": [
              "\n",
              "  <div id=\"df-c9126fe6-faf2-4b15-9b84-985852abcc35\" class=\"colab-df-container\">\n",
              "    <div>\n",
              "<style scoped>\n",
              "    .dataframe tbody tr th:only-of-type {\n",
              "        vertical-align: middle;\n",
              "    }\n",
              "\n",
              "    .dataframe tbody tr th {\n",
              "        vertical-align: top;\n",
              "    }\n",
              "\n",
              "    .dataframe thead th {\n",
              "        text-align: right;\n",
              "    }\n",
              "</style>\n",
              "<table border=\"1\" class=\"dataframe\">\n",
              "  <thead>\n",
              "    <tr style=\"text-align: right;\">\n",
              "      <th>GENE_SYMBOLS</th>\n",
              "      <th>TSPAN6</th>\n",
              "      <th>TNMD</th>\n",
              "      <th>DPM1</th>\n",
              "      <th>SCYL3</th>\n",
              "      <th>C1ORF112</th>\n",
              "      <th>FGR</th>\n",
              "      <th>CFH</th>\n",
              "      <th>FUCA2</th>\n",
              "      <th>GCLC</th>\n",
              "      <th>NFYA</th>\n",
              "      <th>...</th>\n",
              "      <th>LINC00526</th>\n",
              "      <th>PPY2</th>\n",
              "      <th>unknown_gene_315</th>\n",
              "      <th>unknown_gene_316</th>\n",
              "      <th>KRT18P55</th>\n",
              "      <th>unknown_gene_317</th>\n",
              "      <th>POLRMTP1</th>\n",
              "      <th>UBL5P2</th>\n",
              "      <th>TBC1D3P5</th>\n",
              "      <th>unknown_gene_318</th>\n",
              "    </tr>\n",
              "  </thead>\n",
              "  <tbody>\n",
              "    <tr>\n",
              "      <th>683667</th>\n",
              "      <td>0.575582</td>\n",
              "      <td>-0.486487</td>\n",
              "      <td>-0.132586</td>\n",
              "      <td>0.198957</td>\n",
              "      <td>0.056342</td>\n",
              "      <td>-0.286379</td>\n",
              "      <td>2.248935</td>\n",
              "      <td>-2.045783</td>\n",
              "      <td>-1.113481</td>\n",
              "      <td>0.880329</td>\n",
              "      <td>...</td>\n",
              "      <td>-1.438214</td>\n",
              "      <td>0.682399</td>\n",
              "      <td>-0.561209</td>\n",
              "      <td>1.114135</td>\n",
              "      <td>-0.795939</td>\n",
              "      <td>-0.500820</td>\n",
              "      <td>0.074128</td>\n",
              "      <td>1.053064</td>\n",
              "      <td>-0.448461</td>\n",
              "      <td>1.078083</td>\n",
              "    </tr>\n",
              "    <tr>\n",
              "      <th>684052</th>\n",
              "      <td>0.321740</td>\n",
              "      <td>0.182039</td>\n",
              "      <td>-0.201310</td>\n",
              "      <td>-0.225674</td>\n",
              "      <td>-0.033172</td>\n",
              "      <td>-0.415334</td>\n",
              "      <td>-0.499528</td>\n",
              "      <td>-1.453582</td>\n",
              "      <td>-0.930443</td>\n",
              "      <td>-0.222554</td>\n",
              "      <td>...</td>\n",
              "      <td>0.162339</td>\n",
              "      <td>-0.735768</td>\n",
              "      <td>-1.019863</td>\n",
              "      <td>0.132397</td>\n",
              "      <td>-0.930297</td>\n",
              "      <td>-0.498385</td>\n",
              "      <td>-0.055235</td>\n",
              "      <td>-0.406608</td>\n",
              "      <td>-1.380961</td>\n",
              "      <td>-0.956245</td>\n",
              "    </tr>\n",
              "    <tr>\n",
              "      <th>684057</th>\n",
              "      <td>0.815137</td>\n",
              "      <td>-0.138618</td>\n",
              "      <td>-0.030825</td>\n",
              "      <td>0.948011</td>\n",
              "      <td>0.347257</td>\n",
              "      <td>-0.367960</td>\n",
              "      <td>0.533509</td>\n",
              "      <td>-2.376985</td>\n",
              "      <td>-0.381689</td>\n",
              "      <td>1.839076</td>\n",
              "      <td>...</td>\n",
              "      <td>1.294538</td>\n",
              "      <td>-0.558856</td>\n",
              "      <td>0.421798</td>\n",
              "      <td>0.901352</td>\n",
              "      <td>0.077360</td>\n",
              "      <td>-0.338151</td>\n",
              "      <td>-1.291130</td>\n",
              "      <td>-0.763058</td>\n",
              "      <td>-0.452506</td>\n",
              "      <td>1.460755</td>\n",
              "    </tr>\n",
              "    <tr>\n",
              "      <th>684059</th>\n",
              "      <td>0.868284</td>\n",
              "      <td>5.423033</td>\n",
              "      <td>-0.435874</td>\n",
              "      <td>-0.504078</td>\n",
              "      <td>-0.444121</td>\n",
              "      <td>-0.432397</td>\n",
              "      <td>-0.626920</td>\n",
              "      <td>-1.820171</td>\n",
              "      <td>-0.141437</td>\n",
              "      <td>1.029256</td>\n",
              "      <td>...</td>\n",
              "      <td>-0.933776</td>\n",
              "      <td>-0.795712</td>\n",
              "      <td>-1.110786</td>\n",
              "      <td>-0.420262</td>\n",
              "      <td>-0.329552</td>\n",
              "      <td>0.119700</td>\n",
              "      <td>-0.445186</td>\n",
              "      <td>-1.162615</td>\n",
              "      <td>-0.380330</td>\n",
              "      <td>0.808345</td>\n",
              "    </tr>\n",
              "    <tr>\n",
              "      <th>684062</th>\n",
              "      <td>0.898930</td>\n",
              "      <td>0.561040</td>\n",
              "      <td>0.416032</td>\n",
              "      <td>0.095239</td>\n",
              "      <td>1.034958</td>\n",
              "      <td>-0.187399</td>\n",
              "      <td>1.585936</td>\n",
              "      <td>-2.271338</td>\n",
              "      <td>0.039655</td>\n",
              "      <td>1.575873</td>\n",
              "      <td>...</td>\n",
              "      <td>0.659638</td>\n",
              "      <td>-1.010460</td>\n",
              "      <td>-0.792296</td>\n",
              "      <td>0.311585</td>\n",
              "      <td>-0.978333</td>\n",
              "      <td>-0.356759</td>\n",
              "      <td>-0.087761</td>\n",
              "      <td>0.233406</td>\n",
              "      <td>-0.719715</td>\n",
              "      <td>-0.426370</td>\n",
              "    </tr>\n",
              "  </tbody>\n",
              "</table>\n",
              "<p>5 rows × 17737 columns</p>\n",
              "</div>\n",
              "    <div class=\"colab-df-buttons\">\n",
              "\n",
              "  <div class=\"colab-df-container\">\n",
              "    <button class=\"colab-df-convert\" onclick=\"convertToInteractive('df-c9126fe6-faf2-4b15-9b84-985852abcc35')\"\n",
              "            title=\"Convert this dataframe to an interactive table.\"\n",
              "            style=\"display:none;\">\n",
              "\n",
              "  <svg xmlns=\"http://www.w3.org/2000/svg\" height=\"24px\" viewBox=\"0 -960 960 960\">\n",
              "    <path d=\"M120-120v-720h720v720H120Zm60-500h600v-160H180v160Zm220 220h160v-160H400v160Zm0 220h160v-160H400v160ZM180-400h160v-160H180v160Zm440 0h160v-160H620v160ZM180-180h160v-160H180v160Zm440 0h160v-160H620v160Z\"/>\n",
              "  </svg>\n",
              "    </button>\n",
              "\n",
              "  <style>\n",
              "    .colab-df-container {\n",
              "      display:flex;\n",
              "      gap: 12px;\n",
              "    }\n",
              "\n",
              "    .colab-df-convert {\n",
              "      background-color: #E8F0FE;\n",
              "      border: none;\n",
              "      border-radius: 50%;\n",
              "      cursor: pointer;\n",
              "      display: none;\n",
              "      fill: #1967D2;\n",
              "      height: 32px;\n",
              "      padding: 0 0 0 0;\n",
              "      width: 32px;\n",
              "    }\n",
              "\n",
              "    .colab-df-convert:hover {\n",
              "      background-color: #E2EBFA;\n",
              "      box-shadow: 0px 1px 2px rgba(60, 64, 67, 0.3), 0px 1px 3px 1px rgba(60, 64, 67, 0.15);\n",
              "      fill: #174EA6;\n",
              "    }\n",
              "\n",
              "    .colab-df-buttons div {\n",
              "      margin-bottom: 4px;\n",
              "    }\n",
              "\n",
              "    [theme=dark] .colab-df-convert {\n",
              "      background-color: #3B4455;\n",
              "      fill: #D2E3FC;\n",
              "    }\n",
              "\n",
              "    [theme=dark] .colab-df-convert:hover {\n",
              "      background-color: #434B5C;\n",
              "      box-shadow: 0px 1px 3px 1px rgba(0, 0, 0, 0.15);\n",
              "      filter: drop-shadow(0px 1px 2px rgba(0, 0, 0, 0.3));\n",
              "      fill: #FFFFFF;\n",
              "    }\n",
              "  </style>\n",
              "\n",
              "    <script>\n",
              "      const buttonEl =\n",
              "        document.querySelector('#df-c9126fe6-faf2-4b15-9b84-985852abcc35 button.colab-df-convert');\n",
              "      buttonEl.style.display =\n",
              "        google.colab.kernel.accessAllowed ? 'block' : 'none';\n",
              "\n",
              "      async function convertToInteractive(key) {\n",
              "        const element = document.querySelector('#df-c9126fe6-faf2-4b15-9b84-985852abcc35');\n",
              "        const dataTable =\n",
              "          await google.colab.kernel.invokeFunction('convertToInteractive',\n",
              "                                                    [key], {});\n",
              "        if (!dataTable) return;\n",
              "\n",
              "        const docLinkHtml = 'Like what you see? Visit the ' +\n",
              "          '<a target=\"_blank\" href=https://colab.research.google.com/notebooks/data_table.ipynb>data table notebook</a>'\n",
              "          + ' to learn more about interactive tables.';\n",
              "        element.innerHTML = '';\n",
              "        dataTable['output_type'] = 'display_data';\n",
              "        await google.colab.output.renderOutput(dataTable, element);\n",
              "        const docLink = document.createElement('div');\n",
              "        docLink.innerHTML = docLinkHtml;\n",
              "        element.appendChild(docLink);\n",
              "      }\n",
              "    </script>\n",
              "  </div>\n",
              "\n",
              "\n",
              "<div id=\"df-2891f379-8ae7-4f09-a1ff-5d0fe2daad15\">\n",
              "  <button class=\"colab-df-quickchart\" onclick=\"quickchart('df-2891f379-8ae7-4f09-a1ff-5d0fe2daad15')\"\n",
              "            title=\"Suggest charts\"\n",
              "            style=\"display:none;\">\n",
              "\n",
              "<svg xmlns=\"http://www.w3.org/2000/svg\" height=\"24px\"viewBox=\"0 0 24 24\"\n",
              "     width=\"24px\">\n",
              "    <g>\n",
              "        <path d=\"M19 3H5c-1.1 0-2 .9-2 2v14c0 1.1.9 2 2 2h14c1.1 0 2-.9 2-2V5c0-1.1-.9-2-2-2zM9 17H7v-7h2v7zm4 0h-2V7h2v10zm4 0h-2v-4h2v4z\"/>\n",
              "    </g>\n",
              "</svg>\n",
              "  </button>\n",
              "\n",
              "<style>\n",
              "  .colab-df-quickchart {\n",
              "      --bg-color: #E8F0FE;\n",
              "      --fill-color: #1967D2;\n",
              "      --hover-bg-color: #E2EBFA;\n",
              "      --hover-fill-color: #174EA6;\n",
              "      --disabled-fill-color: #AAA;\n",
              "      --disabled-bg-color: #DDD;\n",
              "  }\n",
              "\n",
              "  [theme=dark] .colab-df-quickchart {\n",
              "      --bg-color: #3B4455;\n",
              "      --fill-color: #D2E3FC;\n",
              "      --hover-bg-color: #434B5C;\n",
              "      --hover-fill-color: #FFFFFF;\n",
              "      --disabled-bg-color: #3B4455;\n",
              "      --disabled-fill-color: #666;\n",
              "  }\n",
              "\n",
              "  .colab-df-quickchart {\n",
              "    background-color: var(--bg-color);\n",
              "    border: none;\n",
              "    border-radius: 50%;\n",
              "    cursor: pointer;\n",
              "    display: none;\n",
              "    fill: var(--fill-color);\n",
              "    height: 32px;\n",
              "    padding: 0;\n",
              "    width: 32px;\n",
              "  }\n",
              "\n",
              "  .colab-df-quickchart:hover {\n",
              "    background-color: var(--hover-bg-color);\n",
              "    box-shadow: 0 1px 2px rgba(60, 64, 67, 0.3), 0 1px 3px 1px rgba(60, 64, 67, 0.15);\n",
              "    fill: var(--button-hover-fill-color);\n",
              "  }\n",
              "\n",
              "  .colab-df-quickchart-complete:disabled,\n",
              "  .colab-df-quickchart-complete:disabled:hover {\n",
              "    background-color: var(--disabled-bg-color);\n",
              "    fill: var(--disabled-fill-color);\n",
              "    box-shadow: none;\n",
              "  }\n",
              "\n",
              "  .colab-df-spinner {\n",
              "    border: 2px solid var(--fill-color);\n",
              "    border-color: transparent;\n",
              "    border-bottom-color: var(--fill-color);\n",
              "    animation:\n",
              "      spin 1s steps(1) infinite;\n",
              "  }\n",
              "\n",
              "  @keyframes spin {\n",
              "    0% {\n",
              "      border-color: transparent;\n",
              "      border-bottom-color: var(--fill-color);\n",
              "      border-left-color: var(--fill-color);\n",
              "    }\n",
              "    20% {\n",
              "      border-color: transparent;\n",
              "      border-left-color: var(--fill-color);\n",
              "      border-top-color: var(--fill-color);\n",
              "    }\n",
              "    30% {\n",
              "      border-color: transparent;\n",
              "      border-left-color: var(--fill-color);\n",
              "      border-top-color: var(--fill-color);\n",
              "      border-right-color: var(--fill-color);\n",
              "    }\n",
              "    40% {\n",
              "      border-color: transparent;\n",
              "      border-right-color: var(--fill-color);\n",
              "      border-top-color: var(--fill-color);\n",
              "    }\n",
              "    60% {\n",
              "      border-color: transparent;\n",
              "      border-right-color: var(--fill-color);\n",
              "    }\n",
              "    80% {\n",
              "      border-color: transparent;\n",
              "      border-right-color: var(--fill-color);\n",
              "      border-bottom-color: var(--fill-color);\n",
              "    }\n",
              "    90% {\n",
              "      border-color: transparent;\n",
              "      border-bottom-color: var(--fill-color);\n",
              "    }\n",
              "  }\n",
              "</style>\n",
              "\n",
              "  <script>\n",
              "    async function quickchart(key) {\n",
              "      const quickchartButtonEl =\n",
              "        document.querySelector('#' + key + ' button');\n",
              "      quickchartButtonEl.disabled = true;  // To prevent multiple clicks.\n",
              "      quickchartButtonEl.classList.add('colab-df-spinner');\n",
              "      try {\n",
              "        const charts = await google.colab.kernel.invokeFunction(\n",
              "            'suggestCharts', [key], {});\n",
              "      } catch (error) {\n",
              "        console.error('Error during call to suggestCharts:', error);\n",
              "      }\n",
              "      quickchartButtonEl.classList.remove('colab-df-spinner');\n",
              "      quickchartButtonEl.classList.add('colab-df-quickchart-complete');\n",
              "    }\n",
              "    (() => {\n",
              "      let quickchartButtonEl =\n",
              "        document.querySelector('#df-2891f379-8ae7-4f09-a1ff-5d0fe2daad15 button');\n",
              "      quickchartButtonEl.style.display =\n",
              "        google.colab.kernel.accessAllowed ? 'block' : 'none';\n",
              "    })();\n",
              "  </script>\n",
              "</div>\n",
              "\n",
              "    </div>\n",
              "  </div>\n"
            ],
            "application/vnd.google.colaboratory.intrinsic+json": {
              "type": "dataframe"
            }
          },
          "metadata": {},
          "execution_count": 9
        }
      ],
      "source": [
        "processor.exp_df.head()"
      ]
    },
    {
      "cell_type": "markdown",
      "metadata": {
        "id": "CH31cHycNpQl"
      },
      "source": [
        "## 2.3 Drugs\n",
        "\n",
        "In addition to drug response data, the GDSC dataset includes information about the drugs themselves. Each drug is characterized by various chemical properties that can be used to predict its effectiveness in inhibiting cancer cell growth.\n",
        "\n",
        "### Key Aspects of Drug Features:\n",
        "- **PubChem ID**: A unique identifier for each drug in the PubChem database.\n",
        "- **SMILES**: A textual representation of the molecular structure of the drug, which can be used to calculate molecular descriptors for quantitative structure-activity relationship (QSAR) modeling.\n",
        "- **Pathway Information**: Many drugs target specific biological pathways (e.g., PI3K/AKT/mTOR signaling) that are dysregulated in cancer cells. Understanding these pathways helps identify which drugs might be effective against particular cell lines.\n",
        "<!-- - **Molecular Descriptors**: Features such as molecular weight, LogP (partition coefficient), and hydrogen bond donors/acceptors provide additional information about the chemical properties of each drug. These descriptors can be used to predict drug efficacy. -->\n",
        "\n",
        "By integrating drug features with cell line molecular data, we can build predictive models for drug response, identify potential biomarkers of sensitivity, and uncover novel therapeutic strategies for cancer treatment."
      ]
    },
    {
      "cell_type": "code",
      "execution_count": 10,
      "metadata": {
        "colab": {
          "base_uri": "https://localhost:8080/"
        },
        "id": "Kgv2lTTeNpQl",
        "outputId": "b93f6ab1-c5c0-4611-fb50-2f7e3aadf887"
      },
      "outputs": [
        {
          "output_type": "stream",
          "name": "stdout",
          "text": [
            "There are 22 pathways in GDSC2, one 'Unclassified', and  one 'Other' drug target pathway.\n"
          ]
        }
      ],
      "source": [
        "processor.df['PATHWAY_NAME']\n",
        "\n",
        "drug_df = processor.df.groupby('PATHWAY_NAME')['DRUG_ID'].nunique().reset_index()\n",
        "drug_df.set_index('PATHWAY_NAME', inplace=True)\n",
        "drug_df.columns = ['Number of Unique Drugs']\n",
        "drug_df.sort_values('Number of Unique Drugs', ascending=False, inplace=True)\n",
        "drug_df = drug_df[drug_df.index != 'Unclassified'].dropna()\n",
        "drug_df = drug_df[drug_df.index != 'Other'].dropna()\n",
        "print(f'There are {len(drug_df)} pathways in GDSC2, one \\'Unclassified\\', and  one \\'Other\\' drug target pathway.')"
      ]
    },
    {
      "cell_type": "markdown",
      "metadata": {
        "id": "L4yRqIE0NpQl"
      },
      "source": [
        "\n",
        "### Top 10 Drug Target Pathways by Number of Unique Drugs\n",
        "\n",
        "The table below shows the **top 10 drug target pathways** with the highest number of unique drugs in the GDSC2 dataset:\n",
        "\n",
        "| Pathway Name                  | Number of Unique Drugs |\n",
        "|-------------------------------|------------------------|\n",
        "| PI3K/MTOR signaling            | 27                     |\n",
        "| Other, kinases                 | 22                     |\n",
        "| DNA replication                | 21                     |\n",
        "| ERK MAPK signaling             | 15                     |\n",
        "| Chromatin histone methylation  | 13                     |\n",
        "| Apoptosis regulation           | 13                     |\n",
        "| Cell cycle                     | 13                     |\n",
        "| Genome integrity               | 13                     |\n",
        "| RTK signaling                  | 12                     |\n",
        "| Chromatin other                | 10                     |\n",
        "\n",
        "These pathways represent the most frequently targeted mechanisms by drugs in the dataset. **PI3K/MTOR signaling** is the most targeted pathway, with 27 unique drugs, followed by **DNA replication** and **ERK MAPK signaling**."
      ]
    },
    {
      "cell_type": "code",
      "execution_count": 11,
      "metadata": {
        "colab": {
          "base_uri": "https://localhost:8080/",
          "height": 238
        },
        "id": "nSgcY7PjNpQl",
        "outputId": "2d2aff06-be9d-4b6a-fdf0-771b3d9c9351"
      },
      "outputs": [
        {
          "output_type": "execute_result",
          "data": {
            "text/plain": [
              "                     Number of Unique Drugs\n",
              "PATHWAY_NAME                               \n",
              "PI3K/MTOR signaling                      27\n",
              "Other, kinases                           22\n",
              "DNA replication                          21\n",
              "ERK MAPK signaling                       15\n",
              "Genome integrity                         13"
            ],
            "text/html": [
              "\n",
              "  <div id=\"df-976cde76-10a6-46e1-b711-4260d7d4c584\" class=\"colab-df-container\">\n",
              "    <div>\n",
              "<style scoped>\n",
              "    .dataframe tbody tr th:only-of-type {\n",
              "        vertical-align: middle;\n",
              "    }\n",
              "\n",
              "    .dataframe tbody tr th {\n",
              "        vertical-align: top;\n",
              "    }\n",
              "\n",
              "    .dataframe thead th {\n",
              "        text-align: right;\n",
              "    }\n",
              "</style>\n",
              "<table border=\"1\" class=\"dataframe\">\n",
              "  <thead>\n",
              "    <tr style=\"text-align: right;\">\n",
              "      <th></th>\n",
              "      <th>Number of Unique Drugs</th>\n",
              "    </tr>\n",
              "    <tr>\n",
              "      <th>PATHWAY_NAME</th>\n",
              "      <th></th>\n",
              "    </tr>\n",
              "  </thead>\n",
              "  <tbody>\n",
              "    <tr>\n",
              "      <th>PI3K/MTOR signaling</th>\n",
              "      <td>27</td>\n",
              "    </tr>\n",
              "    <tr>\n",
              "      <th>Other, kinases</th>\n",
              "      <td>22</td>\n",
              "    </tr>\n",
              "    <tr>\n",
              "      <th>DNA replication</th>\n",
              "      <td>21</td>\n",
              "    </tr>\n",
              "    <tr>\n",
              "      <th>ERK MAPK signaling</th>\n",
              "      <td>15</td>\n",
              "    </tr>\n",
              "    <tr>\n",
              "      <th>Genome integrity</th>\n",
              "      <td>13</td>\n",
              "    </tr>\n",
              "  </tbody>\n",
              "</table>\n",
              "</div>\n",
              "    <div class=\"colab-df-buttons\">\n",
              "\n",
              "  <div class=\"colab-df-container\">\n",
              "    <button class=\"colab-df-convert\" onclick=\"convertToInteractive('df-976cde76-10a6-46e1-b711-4260d7d4c584')\"\n",
              "            title=\"Convert this dataframe to an interactive table.\"\n",
              "            style=\"display:none;\">\n",
              "\n",
              "  <svg xmlns=\"http://www.w3.org/2000/svg\" height=\"24px\" viewBox=\"0 -960 960 960\">\n",
              "    <path d=\"M120-120v-720h720v720H120Zm60-500h600v-160H180v160Zm220 220h160v-160H400v160Zm0 220h160v-160H400v160ZM180-400h160v-160H180v160Zm440 0h160v-160H620v160ZM180-180h160v-160H180v160Zm440 0h160v-160H620v160Z\"/>\n",
              "  </svg>\n",
              "    </button>\n",
              "\n",
              "  <style>\n",
              "    .colab-df-container {\n",
              "      display:flex;\n",
              "      gap: 12px;\n",
              "    }\n",
              "\n",
              "    .colab-df-convert {\n",
              "      background-color: #E8F0FE;\n",
              "      border: none;\n",
              "      border-radius: 50%;\n",
              "      cursor: pointer;\n",
              "      display: none;\n",
              "      fill: #1967D2;\n",
              "      height: 32px;\n",
              "      padding: 0 0 0 0;\n",
              "      width: 32px;\n",
              "    }\n",
              "\n",
              "    .colab-df-convert:hover {\n",
              "      background-color: #E2EBFA;\n",
              "      box-shadow: 0px 1px 2px rgba(60, 64, 67, 0.3), 0px 1px 3px 1px rgba(60, 64, 67, 0.15);\n",
              "      fill: #174EA6;\n",
              "    }\n",
              "\n",
              "    .colab-df-buttons div {\n",
              "      margin-bottom: 4px;\n",
              "    }\n",
              "\n",
              "    [theme=dark] .colab-df-convert {\n",
              "      background-color: #3B4455;\n",
              "      fill: #D2E3FC;\n",
              "    }\n",
              "\n",
              "    [theme=dark] .colab-df-convert:hover {\n",
              "      background-color: #434B5C;\n",
              "      box-shadow: 0px 1px 3px 1px rgba(0, 0, 0, 0.15);\n",
              "      filter: drop-shadow(0px 1px 2px rgba(0, 0, 0, 0.3));\n",
              "      fill: #FFFFFF;\n",
              "    }\n",
              "  </style>\n",
              "\n",
              "    <script>\n",
              "      const buttonEl =\n",
              "        document.querySelector('#df-976cde76-10a6-46e1-b711-4260d7d4c584 button.colab-df-convert');\n",
              "      buttonEl.style.display =\n",
              "        google.colab.kernel.accessAllowed ? 'block' : 'none';\n",
              "\n",
              "      async function convertToInteractive(key) {\n",
              "        const element = document.querySelector('#df-976cde76-10a6-46e1-b711-4260d7d4c584');\n",
              "        const dataTable =\n",
              "          await google.colab.kernel.invokeFunction('convertToInteractive',\n",
              "                                                    [key], {});\n",
              "        if (!dataTable) return;\n",
              "\n",
              "        const docLinkHtml = 'Like what you see? Visit the ' +\n",
              "          '<a target=\"_blank\" href=https://colab.research.google.com/notebooks/data_table.ipynb>data table notebook</a>'\n",
              "          + ' to learn more about interactive tables.';\n",
              "        element.innerHTML = '';\n",
              "        dataTable['output_type'] = 'display_data';\n",
              "        await google.colab.output.renderOutput(dataTable, element);\n",
              "        const docLink = document.createElement('div');\n",
              "        docLink.innerHTML = docLinkHtml;\n",
              "        element.appendChild(docLink);\n",
              "      }\n",
              "    </script>\n",
              "  </div>\n",
              "\n",
              "\n",
              "<div id=\"df-61b97455-642f-48ff-97bd-7b31ddeaae04\">\n",
              "  <button class=\"colab-df-quickchart\" onclick=\"quickchart('df-61b97455-642f-48ff-97bd-7b31ddeaae04')\"\n",
              "            title=\"Suggest charts\"\n",
              "            style=\"display:none;\">\n",
              "\n",
              "<svg xmlns=\"http://www.w3.org/2000/svg\" height=\"24px\"viewBox=\"0 0 24 24\"\n",
              "     width=\"24px\">\n",
              "    <g>\n",
              "        <path d=\"M19 3H5c-1.1 0-2 .9-2 2v14c0 1.1.9 2 2 2h14c1.1 0 2-.9 2-2V5c0-1.1-.9-2-2-2zM9 17H7v-7h2v7zm4 0h-2V7h2v10zm4 0h-2v-4h2v4z\"/>\n",
              "    </g>\n",
              "</svg>\n",
              "  </button>\n",
              "\n",
              "<style>\n",
              "  .colab-df-quickchart {\n",
              "      --bg-color: #E8F0FE;\n",
              "      --fill-color: #1967D2;\n",
              "      --hover-bg-color: #E2EBFA;\n",
              "      --hover-fill-color: #174EA6;\n",
              "      --disabled-fill-color: #AAA;\n",
              "      --disabled-bg-color: #DDD;\n",
              "  }\n",
              "\n",
              "  [theme=dark] .colab-df-quickchart {\n",
              "      --bg-color: #3B4455;\n",
              "      --fill-color: #D2E3FC;\n",
              "      --hover-bg-color: #434B5C;\n",
              "      --hover-fill-color: #FFFFFF;\n",
              "      --disabled-bg-color: #3B4455;\n",
              "      --disabled-fill-color: #666;\n",
              "  }\n",
              "\n",
              "  .colab-df-quickchart {\n",
              "    background-color: var(--bg-color);\n",
              "    border: none;\n",
              "    border-radius: 50%;\n",
              "    cursor: pointer;\n",
              "    display: none;\n",
              "    fill: var(--fill-color);\n",
              "    height: 32px;\n",
              "    padding: 0;\n",
              "    width: 32px;\n",
              "  }\n",
              "\n",
              "  .colab-df-quickchart:hover {\n",
              "    background-color: var(--hover-bg-color);\n",
              "    box-shadow: 0 1px 2px rgba(60, 64, 67, 0.3), 0 1px 3px 1px rgba(60, 64, 67, 0.15);\n",
              "    fill: var(--button-hover-fill-color);\n",
              "  }\n",
              "\n",
              "  .colab-df-quickchart-complete:disabled,\n",
              "  .colab-df-quickchart-complete:disabled:hover {\n",
              "    background-color: var(--disabled-bg-color);\n",
              "    fill: var(--disabled-fill-color);\n",
              "    box-shadow: none;\n",
              "  }\n",
              "\n",
              "  .colab-df-spinner {\n",
              "    border: 2px solid var(--fill-color);\n",
              "    border-color: transparent;\n",
              "    border-bottom-color: var(--fill-color);\n",
              "    animation:\n",
              "      spin 1s steps(1) infinite;\n",
              "  }\n",
              "\n",
              "  @keyframes spin {\n",
              "    0% {\n",
              "      border-color: transparent;\n",
              "      border-bottom-color: var(--fill-color);\n",
              "      border-left-color: var(--fill-color);\n",
              "    }\n",
              "    20% {\n",
              "      border-color: transparent;\n",
              "      border-left-color: var(--fill-color);\n",
              "      border-top-color: var(--fill-color);\n",
              "    }\n",
              "    30% {\n",
              "      border-color: transparent;\n",
              "      border-left-color: var(--fill-color);\n",
              "      border-top-color: var(--fill-color);\n",
              "      border-right-color: var(--fill-color);\n",
              "    }\n",
              "    40% {\n",
              "      border-color: transparent;\n",
              "      border-right-color: var(--fill-color);\n",
              "      border-top-color: var(--fill-color);\n",
              "    }\n",
              "    60% {\n",
              "      border-color: transparent;\n",
              "      border-right-color: var(--fill-color);\n",
              "    }\n",
              "    80% {\n",
              "      border-color: transparent;\n",
              "      border-right-color: var(--fill-color);\n",
              "      border-bottom-color: var(--fill-color);\n",
              "    }\n",
              "    90% {\n",
              "      border-color: transparent;\n",
              "      border-bottom-color: var(--fill-color);\n",
              "    }\n",
              "  }\n",
              "</style>\n",
              "\n",
              "  <script>\n",
              "    async function quickchart(key) {\n",
              "      const quickchartButtonEl =\n",
              "        document.querySelector('#' + key + ' button');\n",
              "      quickchartButtonEl.disabled = true;  // To prevent multiple clicks.\n",
              "      quickchartButtonEl.classList.add('colab-df-spinner');\n",
              "      try {\n",
              "        const charts = await google.colab.kernel.invokeFunction(\n",
              "            'suggestCharts', [key], {});\n",
              "      } catch (error) {\n",
              "        console.error('Error during call to suggestCharts:', error);\n",
              "      }\n",
              "      quickchartButtonEl.classList.remove('colab-df-spinner');\n",
              "      quickchartButtonEl.classList.add('colab-df-quickchart-complete');\n",
              "    }\n",
              "    (() => {\n",
              "      let quickchartButtonEl =\n",
              "        document.querySelector('#df-61b97455-642f-48ff-97bd-7b31ddeaae04 button');\n",
              "      quickchartButtonEl.style.display =\n",
              "        google.colab.kernel.accessAllowed ? 'block' : 'none';\n",
              "    })();\n",
              "  </script>\n",
              "</div>\n",
              "\n",
              "    </div>\n",
              "  </div>\n"
            ],
            "application/vnd.google.colaboratory.intrinsic+json": {
              "type": "dataframe",
              "variable_name": "drug_df",
              "summary": "{\n  \"name\": \"drug_df\",\n  \"rows\": 22,\n  \"fields\": [\n    {\n      \"column\": \"PATHWAY_NAME\",\n      \"properties\": {\n        \"dtype\": \"string\",\n        \"num_unique_values\": 22,\n        \"samples\": [\n          \"PI3K/MTOR signaling\",\n          \"Mitosis\",\n          \"RTK signaling\"\n        ],\n        \"semantic_type\": \"\",\n        \"description\": \"\"\n      }\n    },\n    {\n      \"column\": \"Number of Unique Drugs\",\n      \"properties\": {\n        \"dtype\": \"number\",\n        \"std\": 6,\n        \"min\": 1,\n        \"max\": 27,\n        \"num_unique_values\": 15,\n        \"samples\": [\n          7,\n          5,\n          27\n        ],\n        \"semantic_type\": \"\",\n        \"description\": \"\"\n      }\n    }\n  ]\n}"
            }
          },
          "metadata": {},
          "execution_count": 11
        }
      ],
      "source": [
        "drug_df.head(5)"
      ]
    },
    {
      "cell_type": "markdown",
      "metadata": {
        "id": "6LNBo_lK5Omz"
      },
      "source": [
        "## 2.4 Drug Response Metric\n",
        "\n",
        "The GDSC dataset provides **IC50** (half maximal inhibitory concentration) values for hundreds of drugs across various cancer cell lines. The **IC50** value represents the concentration of a drug required to inhibit a biological process (such as cell growth) by 50%. Lower IC50 values indicate higher sensitivity of the cell line to the drug.\n",
        "\n",
        "### Key Aspects of Drug Response Data:\n",
        "- **IC50 values**: A measure of how effective a drug is at inhibiting cancer cell proliferation.\n",
        "- **Drug ID**: Each drug is assigned a unique ID in the dataset.\n",
        "- **COSMIC_ID**: Each cell line is identified by a unique COSMIC ID, which allows for linking the drug response data to other genomic features of the cell line.\n",
        "\n",
        "The GDSC dataset contains IC50 values for hundreds of drugs tested across over 1,000 cancer cell lines. This information is critical for understanding which cell lines are more sensitive or resistant to particular drugs."
      ]
    },
    {
      "cell_type": "code",
      "execution_count": 12,
      "metadata": {
        "colab": {
          "base_uri": "https://localhost:8080/"
        },
        "id": "aB4dsbLG5J8p",
        "outputId": "3e21d3fc-5e34-44a4-ad8c-a5f7179e5440"
      },
      "outputs": [
        {
          "output_type": "stream",
          "name": "stdout",
          "text": [
            "There are 295 drug in GDSC2.\n",
            "There are 969 cancer cell lines in GDSC2.\n"
          ]
        }
      ],
      "source": [
        "## Check how many unique drugs\n",
        "num_drugs = len(processor.df['DRUG_ID'].unique())\n",
        "print(f'There are {num_drugs} drug in GDSC2.') # 295 unique drugs\n",
        "## Check how many unique cell lines\n",
        "num_CCLs = len(processor.df['COSMIC_ID'].unique())\n",
        "print(f'There are {num_CCLs} cancer cell lines in GDSC2.') # 969 unique cell lines"
      ]
    },
    {
      "cell_type": "code",
      "execution_count": 13,
      "metadata": {
        "colab": {
          "base_uri": "https://localhost:8080/",
          "height": 206
        },
        "id": "k2HtkJOXPnyO",
        "outputId": "635b7455-468f-4763-b6e9-7cf49dab143f"
      },
      "outputs": [
        {
          "output_type": "execute_result",
          "data": {
            "text/plain": [
              "   PubCHEM  COSMIC_ID   LN_IC50\n",
              "0    24360     683667 -1.463887\n",
              "1    24360     684052 -4.869455\n",
              "2    24360     684057 -3.360586\n",
              "3    24360     684059 -5.044940\n",
              "4    24360     684062 -3.741991"
            ],
            "text/html": [
              "\n",
              "  <div id=\"df-e1303fe0-fcad-4281-8abd-46187ff91182\" class=\"colab-df-container\">\n",
              "    <div>\n",
              "<style scoped>\n",
              "    .dataframe tbody tr th:only-of-type {\n",
              "        vertical-align: middle;\n",
              "    }\n",
              "\n",
              "    .dataframe tbody tr th {\n",
              "        vertical-align: top;\n",
              "    }\n",
              "\n",
              "    .dataframe thead th {\n",
              "        text-align: right;\n",
              "    }\n",
              "</style>\n",
              "<table border=\"1\" class=\"dataframe\">\n",
              "  <thead>\n",
              "    <tr style=\"text-align: right;\">\n",
              "      <th></th>\n",
              "      <th>PubCHEM</th>\n",
              "      <th>COSMIC_ID</th>\n",
              "      <th>LN_IC50</th>\n",
              "    </tr>\n",
              "  </thead>\n",
              "  <tbody>\n",
              "    <tr>\n",
              "      <th>0</th>\n",
              "      <td>24360</td>\n",
              "      <td>683667</td>\n",
              "      <td>-1.463887</td>\n",
              "    </tr>\n",
              "    <tr>\n",
              "      <th>1</th>\n",
              "      <td>24360</td>\n",
              "      <td>684052</td>\n",
              "      <td>-4.869455</td>\n",
              "    </tr>\n",
              "    <tr>\n",
              "      <th>2</th>\n",
              "      <td>24360</td>\n",
              "      <td>684057</td>\n",
              "      <td>-3.360586</td>\n",
              "    </tr>\n",
              "    <tr>\n",
              "      <th>3</th>\n",
              "      <td>24360</td>\n",
              "      <td>684059</td>\n",
              "      <td>-5.044940</td>\n",
              "    </tr>\n",
              "    <tr>\n",
              "      <th>4</th>\n",
              "      <td>24360</td>\n",
              "      <td>684062</td>\n",
              "      <td>-3.741991</td>\n",
              "    </tr>\n",
              "  </tbody>\n",
              "</table>\n",
              "</div>\n",
              "    <div class=\"colab-df-buttons\">\n",
              "\n",
              "  <div class=\"colab-df-container\">\n",
              "    <button class=\"colab-df-convert\" onclick=\"convertToInteractive('df-e1303fe0-fcad-4281-8abd-46187ff91182')\"\n",
              "            title=\"Convert this dataframe to an interactive table.\"\n",
              "            style=\"display:none;\">\n",
              "\n",
              "  <svg xmlns=\"http://www.w3.org/2000/svg\" height=\"24px\" viewBox=\"0 -960 960 960\">\n",
              "    <path d=\"M120-120v-720h720v720H120Zm60-500h600v-160H180v160Zm220 220h160v-160H400v160Zm0 220h160v-160H400v160ZM180-400h160v-160H180v160Zm440 0h160v-160H620v160ZM180-180h160v-160H180v160Zm440 0h160v-160H620v160Z\"/>\n",
              "  </svg>\n",
              "    </button>\n",
              "\n",
              "  <style>\n",
              "    .colab-df-container {\n",
              "      display:flex;\n",
              "      gap: 12px;\n",
              "    }\n",
              "\n",
              "    .colab-df-convert {\n",
              "      background-color: #E8F0FE;\n",
              "      border: none;\n",
              "      border-radius: 50%;\n",
              "      cursor: pointer;\n",
              "      display: none;\n",
              "      fill: #1967D2;\n",
              "      height: 32px;\n",
              "      padding: 0 0 0 0;\n",
              "      width: 32px;\n",
              "    }\n",
              "\n",
              "    .colab-df-convert:hover {\n",
              "      background-color: #E2EBFA;\n",
              "      box-shadow: 0px 1px 2px rgba(60, 64, 67, 0.3), 0px 1px 3px 1px rgba(60, 64, 67, 0.15);\n",
              "      fill: #174EA6;\n",
              "    }\n",
              "\n",
              "    .colab-df-buttons div {\n",
              "      margin-bottom: 4px;\n",
              "    }\n",
              "\n",
              "    [theme=dark] .colab-df-convert {\n",
              "      background-color: #3B4455;\n",
              "      fill: #D2E3FC;\n",
              "    }\n",
              "\n",
              "    [theme=dark] .colab-df-convert:hover {\n",
              "      background-color: #434B5C;\n",
              "      box-shadow: 0px 1px 3px 1px rgba(0, 0, 0, 0.15);\n",
              "      filter: drop-shadow(0px 1px 2px rgba(0, 0, 0, 0.3));\n",
              "      fill: #FFFFFF;\n",
              "    }\n",
              "  </style>\n",
              "\n",
              "    <script>\n",
              "      const buttonEl =\n",
              "        document.querySelector('#df-e1303fe0-fcad-4281-8abd-46187ff91182 button.colab-df-convert');\n",
              "      buttonEl.style.display =\n",
              "        google.colab.kernel.accessAllowed ? 'block' : 'none';\n",
              "\n",
              "      async function convertToInteractive(key) {\n",
              "        const element = document.querySelector('#df-e1303fe0-fcad-4281-8abd-46187ff91182');\n",
              "        const dataTable =\n",
              "          await google.colab.kernel.invokeFunction('convertToInteractive',\n",
              "                                                    [key], {});\n",
              "        if (!dataTable) return;\n",
              "\n",
              "        const docLinkHtml = 'Like what you see? Visit the ' +\n",
              "          '<a target=\"_blank\" href=https://colab.research.google.com/notebooks/data_table.ipynb>data table notebook</a>'\n",
              "          + ' to learn more about interactive tables.';\n",
              "        element.innerHTML = '';\n",
              "        dataTable['output_type'] = 'display_data';\n",
              "        await google.colab.output.renderOutput(dataTable, element);\n",
              "        const docLink = document.createElement('div');\n",
              "        docLink.innerHTML = docLinkHtml;\n",
              "        element.appendChild(docLink);\n",
              "      }\n",
              "    </script>\n",
              "  </div>\n",
              "\n",
              "\n",
              "<div id=\"df-112adafe-aedb-4cc8-8cd1-06ebc954b0ca\">\n",
              "  <button class=\"colab-df-quickchart\" onclick=\"quickchart('df-112adafe-aedb-4cc8-8cd1-06ebc954b0ca')\"\n",
              "            title=\"Suggest charts\"\n",
              "            style=\"display:none;\">\n",
              "\n",
              "<svg xmlns=\"http://www.w3.org/2000/svg\" height=\"24px\"viewBox=\"0 0 24 24\"\n",
              "     width=\"24px\">\n",
              "    <g>\n",
              "        <path d=\"M19 3H5c-1.1 0-2 .9-2 2v14c0 1.1.9 2 2 2h14c1.1 0 2-.9 2-2V5c0-1.1-.9-2-2-2zM9 17H7v-7h2v7zm4 0h-2V7h2v10zm4 0h-2v-4h2v4z\"/>\n",
              "    </g>\n",
              "</svg>\n",
              "  </button>\n",
              "\n",
              "<style>\n",
              "  .colab-df-quickchart {\n",
              "      --bg-color: #E8F0FE;\n",
              "      --fill-color: #1967D2;\n",
              "      --hover-bg-color: #E2EBFA;\n",
              "      --hover-fill-color: #174EA6;\n",
              "      --disabled-fill-color: #AAA;\n",
              "      --disabled-bg-color: #DDD;\n",
              "  }\n",
              "\n",
              "  [theme=dark] .colab-df-quickchart {\n",
              "      --bg-color: #3B4455;\n",
              "      --fill-color: #D2E3FC;\n",
              "      --hover-bg-color: #434B5C;\n",
              "      --hover-fill-color: #FFFFFF;\n",
              "      --disabled-bg-color: #3B4455;\n",
              "      --disabled-fill-color: #666;\n",
              "  }\n",
              "\n",
              "  .colab-df-quickchart {\n",
              "    background-color: var(--bg-color);\n",
              "    border: none;\n",
              "    border-radius: 50%;\n",
              "    cursor: pointer;\n",
              "    display: none;\n",
              "    fill: var(--fill-color);\n",
              "    height: 32px;\n",
              "    padding: 0;\n",
              "    width: 32px;\n",
              "  }\n",
              "\n",
              "  .colab-df-quickchart:hover {\n",
              "    background-color: var(--hover-bg-color);\n",
              "    box-shadow: 0 1px 2px rgba(60, 64, 67, 0.3), 0 1px 3px 1px rgba(60, 64, 67, 0.15);\n",
              "    fill: var(--button-hover-fill-color);\n",
              "  }\n",
              "\n",
              "  .colab-df-quickchart-complete:disabled,\n",
              "  .colab-df-quickchart-complete:disabled:hover {\n",
              "    background-color: var(--disabled-bg-color);\n",
              "    fill: var(--disabled-fill-color);\n",
              "    box-shadow: none;\n",
              "  }\n",
              "\n",
              "  .colab-df-spinner {\n",
              "    border: 2px solid var(--fill-color);\n",
              "    border-color: transparent;\n",
              "    border-bottom-color: var(--fill-color);\n",
              "    animation:\n",
              "      spin 1s steps(1) infinite;\n",
              "  }\n",
              "\n",
              "  @keyframes spin {\n",
              "    0% {\n",
              "      border-color: transparent;\n",
              "      border-bottom-color: var(--fill-color);\n",
              "      border-left-color: var(--fill-color);\n",
              "    }\n",
              "    20% {\n",
              "      border-color: transparent;\n",
              "      border-left-color: var(--fill-color);\n",
              "      border-top-color: var(--fill-color);\n",
              "    }\n",
              "    30% {\n",
              "      border-color: transparent;\n",
              "      border-left-color: var(--fill-color);\n",
              "      border-top-color: var(--fill-color);\n",
              "      border-right-color: var(--fill-color);\n",
              "    }\n",
              "    40% {\n",
              "      border-color: transparent;\n",
              "      border-right-color: var(--fill-color);\n",
              "      border-top-color: var(--fill-color);\n",
              "    }\n",
              "    60% {\n",
              "      border-color: transparent;\n",
              "      border-right-color: var(--fill-color);\n",
              "    }\n",
              "    80% {\n",
              "      border-color: transparent;\n",
              "      border-right-color: var(--fill-color);\n",
              "      border-bottom-color: var(--fill-color);\n",
              "    }\n",
              "    90% {\n",
              "      border-color: transparent;\n",
              "      border-bottom-color: var(--fill-color);\n",
              "    }\n",
              "  }\n",
              "</style>\n",
              "\n",
              "  <script>\n",
              "    async function quickchart(key) {\n",
              "      const quickchartButtonEl =\n",
              "        document.querySelector('#' + key + ' button');\n",
              "      quickchartButtonEl.disabled = true;  // To prevent multiple clicks.\n",
              "      quickchartButtonEl.classList.add('colab-df-spinner');\n",
              "      try {\n",
              "        const charts = await google.colab.kernel.invokeFunction(\n",
              "            'suggestCharts', [key], {});\n",
              "      } catch (error) {\n",
              "        console.error('Error during call to suggestCharts:', error);\n",
              "      }\n",
              "      quickchartButtonEl.classList.remove('colab-df-spinner');\n",
              "      quickchartButtonEl.classList.add('colab-df-quickchart-complete');\n",
              "    }\n",
              "    (() => {\n",
              "      let quickchartButtonEl =\n",
              "        document.querySelector('#df-112adafe-aedb-4cc8-8cd1-06ebc954b0ca button');\n",
              "      quickchartButtonEl.style.display =\n",
              "        google.colab.kernel.accessAllowed ? 'block' : 'none';\n",
              "    })();\n",
              "  </script>\n",
              "</div>\n",
              "\n",
              "    </div>\n",
              "  </div>\n"
            ],
            "application/vnd.google.colaboratory.intrinsic+json": {
              "type": "dataframe",
              "summary": "{\n  \"name\": \"processor\",\n  \"rows\": 5,\n  \"fields\": [\n    {\n      \"column\": \"PubCHEM\",\n      \"properties\": {\n        \"dtype\": \"number\",\n        \"std\": 0,\n        \"min\": 24360,\n        \"max\": 24360,\n        \"num_unique_values\": 1,\n        \"samples\": [\n          24360\n        ],\n        \"semantic_type\": \"\",\n        \"description\": \"\"\n      }\n    },\n    {\n      \"column\": \"COSMIC_ID\",\n      \"properties\": {\n        \"dtype\": \"number\",\n        \"std\": 174,\n        \"min\": 683667,\n        \"max\": 684062,\n        \"num_unique_values\": 5,\n        \"samples\": [\n          684052\n        ],\n        \"semantic_type\": \"\",\n        \"description\": \"\"\n      }\n    },\n    {\n      \"column\": \"LN_IC50\",\n      \"properties\": {\n        \"dtype\": \"number\",\n        \"std\": 1.4399289723190172,\n        \"min\": -5.04494,\n        \"max\": -1.463887,\n        \"num_unique_values\": 5,\n        \"samples\": [\n          -4.869455\n        ],\n        \"semantic_type\": \"\",\n        \"description\": \"\"\n      }\n    }\n  ]\n}"
            }
          },
          "metadata": {},
          "execution_count": 13
        }
      ],
      "source": [
        "processor.GDSC2_df.head()"
      ]
    },
    {
      "cell_type": "markdown",
      "metadata": {
        "id": "XiALPxKpNpQl"
      },
      "source": [
        "# 3. Deep Learning for Drug Response Predictions\n",
        "\n",
        "Drug response prediction is a supervised machine learning (ML) problem. ML models learn patterns and relationships that help in predicting how different cancer cell lines will respond to specific drugs.\n",
        "\n",
        "Deep Learning (DL) techniques have become a powerful tool for predicting drug response in cancer research. By integrating multi-modal data sources, such as genomic features, molecular structure, and drug screening results, DL facilitates more personalized and effective cancer therapies.\n",
        "\n",
        "## Learning Object:\n",
        "In this Section, we will try to focus on **Aim 1.2**.\n",
        "\n",
        "\n",
        "## 3.1 Key Components of DL for Drug Response Prediction:\n",
        "\n",
        "1. **Feature Representation**:\n",
        "    - **Drug Features**: Molecular structure information such as SMILES strings can be transformed into numerical representations (e.g., molecular fingerprints or graph-based representations).\n",
        "    - **Cell Line Features**: Omics features (e.g., gene expression, mutations) of the cancer cell lines are critical inputs.\n",
        "   \n",
        "2. **Modeling**:\n",
        "    - **Drug and Cell Line Encoders**: Feature encoders for drugs and cell lines learn useful embeddings to improve model performance.\n",
        "\n",
        "3. **Prediction**:\n",
        "    - The ML model predicts the drug response for a given drug-cell line pair, producing an output such as the IC50 value, which indicates drug efficacy.\n",
        "\n",
        "In the figure below, we illustrate the common model used for drug response prediction. The model takes drug features and cell line features, processes them through respective encoders, and produces a prediction of drug response (IC50).\n"
      ]
    },
    {
      "cell_type": "markdown",
      "metadata": {
        "id": "mqNtw26PNpQm"
      },
      "source": [
        "\n",
        "<!-- <object data=\"../Figures/figure_pipeline.pdf\" type=\"application/pdf\" width=\"100%\" height=\"600px\">\n",
        "    <p>Your browser does not support PDF embedding. <a href=\"../Figures/figure_pipeline.pdf\">Download the PDF</a> to view it.</p>\n",
        "</object> -->\n",
        "\n",
        "<!-- ![DRP Pipeline](https://github.com/matcyr/APBJC2024_GNN_Tutorial/blob/master/Figures/DRP_pipeline.png?raw=1) -->\n",
        "<img src=\"https://github.com/matcyr/APBJC2024_GNN_Tutorial/blob/master/Figures/DRP_pipeline.png?raw=1\" alt=\"DRP Pipeline\" width=\"900\" height=\"400\">\n",
        "\n",
        "*Figure 2: Machine Learning pipeline for drug response prediction, showing the process of encoding both drug and cell line features for IC50 prediction.*\n"
      ]
    },
    {
      "cell_type": "markdown",
      "metadata": {
        "id": "BUJqcY-2NpQm"
      },
      "source": [
        "## 3.2 Train-Test Split:\n",
        "\n",
        "- **test_size=0.3**: This specifies that 30% of the data will be used as the test set, while the remaining 70% will be used to train the model.\n",
        "- **random_state=42**: This ensures the split is reproducible. Using the same random state value guarantees that the data is split in the same way every time the code is run.\n",
        "\n",
        "By performing this split, we ensure that the model’s performance is evaluated on a separate dataset that was not used during training, giving us a realistic understanding of how well the model can predict drug response for unseen cancer cell lines and drug pairs."
      ]
    },
    {
      "cell_type": "markdown",
      "metadata": {
        "id": "dG5_jvs_NpQm"
      },
      "source": [
        "<img src=\"https://github.com/matcyr/APBJC2024_GNN_Tutorial/blob/master/Figures/mix_test.png?raw=1\" alt=\"DRP Pipeline\" width=\"400\" height=\"500\">\n",
        "\n",
        "*Figure 3: Mixed test for the drug response prediction.*"
      ]
    },
    {
      "cell_type": "markdown",
      "metadata": {
        "id": "5rjUElwHNpQn"
      },
      "source": [
        "# 4. Molecules Graph Representation\n",
        "\n",
        "The structure of a small molecule plays a critical role in determining its chemical and biological properties. In drug discovery and cancer research, molecular structure affects how a drug interacts with its target, its ability to be absorbed, distributed, metabolized, and excreted in the body, as well as its overall efficacy and toxicity. Understanding and visualizing these structures helps researchers predict drug response and optimize therapeutic strategies.\n",
        "\n",
        "\n",
        "### Learning Object:\n",
        "We will address **Aim 2.1** here.\n",
        "\n",
        "##  4.1 Why Molecular Structure Matters?\n",
        "\n",
        "1. **Binding Affinity**: The three-dimensional arrangement of atoms in a molecule determines its ability to bind to specific receptors or enzymes in a biological system. Small changes in the structure can significantly alter the binding affinity, directly influencing the drug’s potency.\n",
        "  \n",
        "2. **Solubility and Permeability**: The functional groups and overall geometry of the molecule affect its solubility in water or lipids, which impacts the drug's absorption and distribution across cell membranes.\n",
        "\n",
        "3. **Stability and Metabolism**: Structural features determine how easily a drug is metabolized by enzymes in the liver or other tissues. Certain molecular configurations may be more resistant to degradation, resulting in a longer duration of action, while others are quickly broken down and excreted.\n",
        "\n",
        "4. **Toxicity**: Some structural motifs can lead to unwanted side effects or toxicity. Understanding the structure-property relationship helps in designing safer drugs with fewer side effects.\n",
        "\n",
        "In cheminformatics, SMILES (Simplified Molecular Input Line Entry System) is a widely used notation for describing the structure of chemical compounds. However, to better understand the structure of a molecule, it can be useful to visualize the molecule as a graph, where atoms are represented as nodes and chemical bonds as edges.\n",
        "\n",
        "### Steps?\n",
        "In this section, you will follow:\n",
        "\n",
        "\n",
        "1. **SMILES to Molecule Conversion**: We will use RDKit to convert a SMILES string into a molecular object. RDKit is a powerful toolkit that provides tools for chemical informatics, including functions to parse SMILES strings.\n",
        "  \n",
        "2. **Molecule to Graph**: After converting the SMILES string into a molecular object, we will transform this molecule into a graph. In the graph, each atom will be a node, and each bond will be an edge.\n",
        "\n",
        "3. **Visualization**: Finally, we will use `networkx` to visualize the graph structure. Each atom will be labeled with its atomic symbol, and edges between atoms will represent the bonds in the molecule.\n"
      ]
    },
    {
      "cell_type": "markdown",
      "metadata": {
        "id": "96pNbFzYNpQn"
      },
      "source": [
        "\n",
        "## 4.2 Molecule Graph\n",
        "\n",
        "\n",
        "In graph-based machine learning, it's common to represent molecules as graphs, where atoms serve as nodes and chemical bonds represent edges. For machine learning tasks, we need a structured format, such as an adjacency matrix to represent the connections between atoms, and node features to describe the properties of each atom. In this section, we will convert a molecule from its SMILES representation into two essential components: **Adjacency Matrix** and **Node Features**.\n",
        "\n",
        "\n",
        "### Learning Object:\n",
        "We will address **Aim 2.2** here.\n",
        "\n",
        "The SMILES string we will work with in this section is: `C1=C(C(=O)NC(=O)N1)F`, which is the drug **5-Fluorouracil**.\n",
        "This represents a molecule where sulfur and oxygen atoms form a key part of the structure, along with carbon atoms and single bonds.\n"
      ]
    },
    {
      "cell_type": "code",
      "execution_count": 14,
      "metadata": {
        "colab": {
          "base_uri": "https://localhost:8080/",
          "height": 406
        },
        "id": "-ZlNfJH8NpQn",
        "outputId": "4518a1c1-a58e-42ae-93b7-2d0e0c52a70e"
      },
      "outputs": [
        {
          "output_type": "display_data",
          "data": {
            "text/plain": [
              "<Figure size 640x480 with 1 Axes>"
            ],
            "image/png": "[encoded data removed]"
          },
          "metadata": {}
        }
      ],
      "source": [
        "# Import necessary libraries\n",
        "from rdkit import Chem\n",
        "from rdkit.Chem import Draw\n",
        "import matplotlib.pyplot as plt\n",
        "\n",
        "# SMILES string\n",
        "# smiles = 'O=S(=O)(O)CCS(=O)(=O)O'\n",
        "smiles = 'C1=C(C(=O)NC(=O)N1)F'\n",
        "# smiles = 'Brc1ccc(SSc2ccc(Br)cc2)cc1'\n",
        "\n",
        "# Convert SMILES to a molecule object\n",
        "molecule = Chem.MolFromSmiles(smiles)\n",
        "\n",
        "# Check if molecule is valid\n",
        "if molecule is None:\n",
        "    print(\"Invalid SMILES string\")\n",
        "else:\n",
        "    # Visualize the molecular structure\n",
        "    img = Draw.MolToImage(molecule, size=(300, 300))\n",
        "\n",
        "    # Display the molecular graph\n",
        "    plt.imshow(img)\n",
        "    plt.axis('off')\n",
        "    plt.show()\n"
      ]
    },
    {
      "cell_type": "code",
      "execution_count": 15,
      "metadata": {
        "colab": {
          "base_uri": "https://localhost:8080/",
          "height": 337
        },
        "id": "o5GrqEvCNpQn",
        "outputId": "d83843de-be4a-480f-9f39-84c612f4ee32"
      },
      "outputs": [
        {
          "output_type": "display_data",
          "data": {
            "text/plain": [
              "<Figure size 400x300 with 1 Axes>"
            ],
            "image/png": "[encoded data removed]"
          },
          "metadata": {}
        }
      ],
      "source": [
        "def mol_to_nx(molecule):\n",
        "    G = nx.Graph()\n",
        "\n",
        "    # Add nodes (atoms)\n",
        "    for atom in molecule.GetAtoms():\n",
        "        G.add_node(atom.GetIdx(), label=atom.GetSymbol())\n",
        "\n",
        "    # Add edges (bonds)\n",
        "    for bond in molecule.GetBonds():\n",
        "        G.add_edge(bond.GetBeginAtomIdx(), bond.GetEndAtomIdx())\n",
        "\n",
        "    return G\n",
        "\n",
        "# Convert molecule to a NetworkX graph\n",
        "G = mol_to_nx(molecule)\n",
        "\n",
        "# Get labels for the nodes (atoms)\n",
        "labels = nx.get_node_attributes(G, 'label')\n",
        "\n",
        "# Plot the molecular graph using NetworkX\n",
        "plt.figure(figsize=(4, 3))\n",
        "pos = nx.spring_layout(G)  # Position the nodes for visualization\n",
        "nx.draw(G, pos, labels=labels, with_labels=True, node_color='lightblue', node_size=500, font_size=10)\n",
        "plt.show()"
      ]
    },
    {
      "cell_type": "markdown",
      "metadata": {
        "id": "WjM0LPZpFHSC"
      },
      "source": [
        "## 4.3 How to Represent a Graph in Math?\n",
        "\n",
        "### 4.3.1 Node Features\n",
        "A feature matrix that describes the atoms in the molecule. In this case, we will use the atomic number (representing the atom type) as the feature for each node. For each atom in the molecule, we will extract its atomic number as a simple feature representation. The atomic number corresponds to the type of atom (e.g., Oxygen = 8, Carbon = 6, Sulfur = 16)."
      ]
    },
    {
      "cell_type": "code",
      "execution_count": 16,
      "metadata": {
        "id": "dzvruo9eNpQo",
        "outputId": "1375d45d-2278-465a-e68b-8e0084628f57",
        "colab": {
          "base_uri": "https://localhost:8080/",
          "height": 655
        }
      },
      "outputs": [
        {
          "output_type": "display_data",
          "data": {
            "text/plain": [
              "<Figure size 600x400 with 1 Axes>"
            ],
            "image/png": "[encoded data removed]"
          },
          "metadata": {}
        },
        {
          "output_type": "stream",
          "name": "stdout",
          "text": [
            "\n",
            "Node Features (Atom Types):\n",
            "Node 0: Atomic Number = 6, Atom Type = C\n",
            "Node 1: Atomic Number = 6, Atom Type = C\n",
            "Node 2: Atomic Number = 6, Atom Type = C\n",
            "Node 3: Atomic Number = 8, Atom Type = O\n",
            "Node 4: Atomic Number = 7, Atom Type = N\n",
            "Node 5: Atomic Number = 6, Atom Type = C\n",
            "Node 6: Atomic Number = 8, Atom Type = O\n",
            "Node 7: Atomic Number = 7, Atom Type = N\n",
            "Node 8: Atomic Number = 9, Atom Type = F\n"
          ]
        }
      ],
      "source": [
        "molecule = Chem.MolFromSmiles(smiles)\n",
        "\n",
        "# Get the number of atoms in the molecule\n",
        "num_atoms = molecule.GetNumAtoms()\n",
        "\n",
        "\n",
        "\n",
        "# Get atom types as node features (atomic numbers and symbols)\n",
        "atom_types = []\n",
        "atom_symbols = []\n",
        "atomic_num_symbol_map = {}\n",
        "## The atomic number of an atom is the number of protons in its nucleus\n",
        "for atom in molecule.GetAtoms():\n",
        "    atom_num = atom.GetAtomicNum()\n",
        "    atom_symbol = atom.GetSymbol()\n",
        "\n",
        "    atom_types.append(atom_num)  # Use atomic numbers as node features\n",
        "    atom_symbols.append(atom_symbol)  # Use atomic symbols as labels\n",
        "\n",
        "    # Map atomic number to symbol if not already in the map\n",
        "    if atom_num not in atomic_num_symbol_map:\n",
        "        atomic_num_symbol_map[atom_num] = atom_symbol\n",
        "## The connection between atoms is represented by edges\n",
        "edge_list = []\n",
        "for bond in molecule.GetBonds():\n",
        "    # Each bond connects two atoms (begin atom and end atom)\n",
        "    atom1 = bond.GetBeginAtomIdx()\n",
        "    atom2 = bond.GetEndAtomIdx()\n",
        "\n",
        "    # Append both directions of the edge (atom1 -> atom2 and atom2 -> atom1)\n",
        "    edge_list.append((atom1, atom2))\n",
        "    edge_list.append((atom2, atom1))  # This ensures the edge is undirected\n",
        "atom_types, adj_matrix, edge_list, atomic_num_symbol_map = process_molecule(smiles)\n",
        "visualize_molecule_graph(edge_list, atom_types, atomic_num_symbol_map)\n",
        "print(\"\\nNode Features (Atom Types):\")\n",
        "for i, (atom_num, atom_symbol) in enumerate(zip(atom_types, atom_symbols)):\n",
        "    print(f\"Node {i}: Atomic Number = {atom_num}, Atom Type = {atom_symbol}\")\n"
      ]
    },
    {
      "cell_type": "markdown",
      "metadata": {
        "id": "kpiOS1n0NpQo"
      },
      "source": [
        "### 4.3.2 Adjacency Matrix\n",
        "Adjacency Matrix is a binary matrix that represents the presence or absence of bonds between pairs of atoms. We will extract the adjacency matrix from the molecule, where the matrix element at position \\((i, j)\\) indicates whether there is a bond between atom \\(i\\) and atom \\(j\\).\n",
        "### Edge List Representation\n",
        "\n",
        "In addition to using an adjacency matrix to represent the connections between atoms, another common way to represent graph structures is through an **edge list**. An edge list is a simple way to describe the connections (bonds) in a graph by listing pairs of nodes (atoms) that are connected by edges (bonds).\n",
        "\n",
        "In the case of molecular graphs:\n",
        "- **Nodes** represent atoms.\n",
        "- **Edges** represent the bonds between atoms.\n",
        "\n",
        "The edge list provides a more compact representation compared to the adjacency matrix, particularly for sparse graphs, where many possible connections do not exist.\n",
        "\n",
        "### Steps to Create the Edge List:\n",
        "\n",
        "1. **Extract Bonds from the Molecule**: Using RDKit, we extract the bonds between atoms. Each bond connects two atoms, which we can retrieve as a pair of indices.\n",
        "  \n",
        "2. **Build the Edge List**: For each bond in the molecule, we store the indices of the connected atoms as a tuple, creating an undirected edge list. Since chemical bonds are inherently undirected, we avoid adding duplicate edges.\n",
        "\n",
        "3. **Interpret the Edge List**: Each tuple in the edge list represents a bond between two atoms, identified by their indices in the molecule.\n",
        "\n"
      ]
    },
    {
      "cell_type": "code",
      "execution_count": null,
      "metadata": {
        "id": "r4NtIEH3NpQo"
      },
      "outputs": [],
      "source": [
        "visualize_molecule_graph(edge_list, atom_types, atomic_num_symbol_map)\n",
        "# Print the undirected edge list\n",
        "print(\"\\nUndirected Edge List:\")\n",
        "for edge in edge_list:\n",
        "    print(edge)"
      ]
    },
    {
      "cell_type": "markdown",
      "metadata": {
        "id": "R4q9yjwONpQo"
      },
      "source": [
        "The connectivity of the graph can also be described by the adjecency matrix:"
      ]
    },
    {
      "cell_type": "code",
      "execution_count": null,
      "metadata": {
        "id": "7y6_Q6j0NpQo"
      },
      "outputs": [],
      "source": [
        "# The adjacency matrix (num_atoms x num_atoms)\n",
        "adj_matrix = rdmolops.GetAdjacencyMatrix(molecule)\n",
        "print(\"\\nAdjacency Matrix:\")\n",
        "print(adj_matrix)"
      ]
    },
    {
      "cell_type": "markdown",
      "metadata": {
        "id": "23VANIpeNpQo"
      },
      "source": [
        "## 4.4 Process the Drug Data!"
      ]
    },
    {
      "cell_type": "code",
      "execution_count": null,
      "metadata": {
        "id": "LF5u_LkiNpQo"
      },
      "outputs": [],
      "source": [
        "drug_smiles_df = processor.drug_meta[['PubCHEM', 'SMILES']]"
      ]
    },
    {
      "cell_type": "code",
      "execution_count": null,
      "metadata": {
        "id": "Qe8kr6_-TtDh"
      },
      "outputs": [],
      "source": [
        "processor.drug_meta.head()"
      ]
    },
    {
      "cell_type": "code",
      "execution_count": null,
      "metadata": {
        "id": "MjDfUsT1NpQp"
      },
      "outputs": [],
      "source": [
        "pubchem_list = []\n",
        "smiles_list = []\n",
        "atom_types_list = []\n",
        "adj_matrix_list = []\n",
        "edge_list_list = []\n",
        "atomic_num_symbol_map_list = []\n",
        "for idx, row in drug_smiles_df.iterrows():\n",
        "    smiles = row['SMILES']\n",
        "    pubchem_id = row['PubCHEM']\n",
        "    atom_types, adj_matrix, edge_list, atomic_num_symbol_map = process_molecule(smiles)\n",
        "    # Append the results to the respective lists\n",
        "    pubchem_list.append(pubchem_id)\n",
        "    smiles_list.append(smiles)\n",
        "    atom_types_list.append(atom_types)\n",
        "    adj_matrix_list.append(adj_matrix)\n",
        "    edge_list_list.append(edge_list)\n",
        "    atomic_num_symbol_map_list.append(atomic_num_symbol_map)"
      ]
    },
    {
      "cell_type": "code",
      "execution_count": null,
      "metadata": {
        "id": "O7tuBW0vNpQp"
      },
      "outputs": [],
      "source": [
        "df_processed = pd.DataFrame({\n",
        "    'pubchem_id': pubchem_list,\n",
        "    'smiles': smiles_list,\n",
        "    'atom_types': atom_types_list,\n",
        "    'adj_matrix': adj_matrix_list,\n",
        "    'edge_list': edge_list_list,\n",
        "    'atomic_num_symbol_map': atomic_num_symbol_map_list\n",
        "})\n",
        "df_processed.set_index('pubchem_id', inplace=True)\n",
        "df_processed.head()"
      ]
    },
    {
      "cell_type": "code",
      "execution_count": null,
      "metadata": {
        "id": "97SGdxIBNpQw"
      },
      "outputs": [],
      "source": [
        "from torch_geometric.data import Data\n",
        "pyg_data_dict = {pubchem_id: Data(x=torch.tensor(df_processed.loc[pubchem_id]['atom_types'], dtype=torch.long), edge_index=torch.tensor(df_processed.loc[pubchem_id]['edge_list'], dtype=torch.long).t().contiguous()) for pubchem_id in pubchem_list}\n",
        "pubchem_id_to_idx = {pubchem_id: idx for idx, pubchem_id in enumerate(pubchem_list)}"
      ]
    },
    {
      "cell_type": "markdown",
      "metadata": {
        "id": "sksjuFYHNpQw"
      },
      "source": [
        "## 4.5 Prepare the Mol-Graph Dataset for DL!"
      ]
    },
    {
      "cell_type": "markdown",
      "metadata": {
        "id": "65cGSncvNpQw"
      },
      "source": [
        "We use Pytorch to implement the DL model. The `DrugResponseDataset` class simplifies the process of loading and fetching data required for drug response prediction tasks. It is built to efficiently handle large datasets by precomputing feature tensors for cancer cell lines and drug compounds during initialization. This allows for fast retrieval during training.\n",
        "\n",
        "### Dataset Inputs:\n",
        "- **train_df**: A DataFrame containing the **COSMIC_ID**, **PubCHEM_ID**, and **IC50 values** for the drug-cell line pairs.\n",
        "- **exp_df**: A DataFrame containing the gene expression features for cancer cell lines, indexed by **COSMIC_ID**.\n",
        "- **pyg_data_dict**: A dictionary containing the drug features, where each drug is represented as a PyTorch Geometric `Data` object, indexed by **PubCHEM_ID**.\n",
        "\n",
        "### Core Components:\n",
        "\n",
        "#### 1. Cancer Cell Line Features (`CCL_feature`):\n",
        "The gene expression data for cancer cell lines is stored as a tensor during initialization. The features are accessed by mapping the **COSMIC_ID** from the training data to the corresponding row in `exp_df`.\n",
        "\n",
        "#### 2. Drug Features (`drug_feature`):\n",
        "Drug features are stored as PyTorch Geometric `Data` objects, which are preloaded from the `pyg_data_dict`. Each **PubCHEM_ID** in the training data maps to its corresponding graph-based drug feature.\n",
        "\n",
        "#### 3. IC50 Values (`IC50_value`):\n",
        "IC50 values, representing the drug response (inhibition concentration), are stored as tensors. The dataset provides a tensor for each drug-cell line pair, facilitating model training and prediction.\n"
      ]
    },
    {
      "cell_type": "code",
      "execution_count": null,
      "metadata": {
        "id": "DAqzS8L4hCcX"
      },
      "outputs": [],
      "source": [
        "# Split the GDSC2 data into train and test sets (70% train, 30% test)\n",
        "from sklearn.model_selection import train_test_split\n",
        "train_df, test_df = train_test_split(processor.GDSC2_df, test_size=0.3, random_state=42)\n",
        "# Display the shapes of the resulting datasets\n",
        "print(f\"Training set size: {train_df.shape}\")\n",
        "print(f\"Test set size: {test_df.shape}\")"
      ]
    },
    {
      "cell_type": "code",
      "execution_count": null,
      "metadata": {
        "id": "EZIB7dS1NpQx"
      },
      "outputs": [],
      "source": [
        "train_set = DrugResponseDataset(train_df.reset_index(drop=True), processor.exp_df, pyg_data_dict)\n",
        "test_set = DrugResponseDataset(test_df.reset_index(drop=True), processor.exp_df, pyg_data_dict)"
      ]
    },
    {
      "cell_type": "code",
      "execution_count": null,
      "metadata": {
        "id": "WNjQcFdONpQx"
      },
      "outputs": [],
      "source": [
        "print(f\"Training set size: {len(train_set)}\")\n",
        "print(f\"Test set size: {len(test_set)}\")"
      ]
    },
    {
      "cell_type": "code",
      "execution_count": null,
      "metadata": {
        "id": "glWduNxMNpQx"
      },
      "outputs": [],
      "source": [
        "def _collate_fn(samples):\n",
        "    CCL_feature, drug_feature, IC50 = map(list, zip(*samples))\n",
        "    drug_feature = Batch.from_data_list(drug_feature)\n",
        "    return torch.stack(CCL_feature), drug_feature, torch.stack(IC50)"
      ]
    },
    {
      "cell_type": "code",
      "execution_count": null,
      "metadata": {
        "id": "DIRTG6Q3NpQx"
      },
      "outputs": [],
      "source": [
        "train_loader = DataLoader(train_set, batch_size=2048, shuffle=True, collate_fn=_collate_fn)\n",
        "test_loader = DataLoader(test_set, batch_size=2048, shuffle=False, collate_fn=_collate_fn)"
      ]
    },
    {
      "cell_type": "code",
      "execution_count": null,
      "metadata": {
        "id": "Ty4bwagSNpQy"
      },
      "outputs": [],
      "source": [
        "next(iter(test_loader))"
      ]
    },
    {
      "cell_type": "markdown",
      "metadata": {
        "id": "xs_6O71xNpQy"
      },
      "source": [
        "# 5. Graph Neural Network"
      ]
    },
    {
      "cell_type": "markdown",
      "metadata": {
        "id": "Ng6A5YloNpQy"
      },
      "source": [
        "\n",
        "![Screen Shot 2020-08-27 at 13.13.26.png](data:image/png;base64,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)\n"
      ]
    },
    {
      "cell_type": "markdown",
      "metadata": {
        "id": "wANOqVRSNpQz"
      },
      "source": [
        "Graph-level supervised learning refers to the problem of classifiying/predicting entire graphs (in contrast to nodes), given a **dataset of graphs**, based on some structural graph properties. Here, we want to embed entire graphs.\n",
        "\n",
        "**Our goal is to get a 'better vector' (Embedding) of each drug to make the final prediction via the GNN!**\n",
        "\n",
        "## Learning Object:\n",
        "You will learn for **Aim 3** here. Try your best to follow the equations!\n",
        "\n",
        "### Formal Setup:\n",
        "We aim to find a function that operates on features of the molecular graph.\n",
        "\n",
        "#### *Inputs*:\n",
        "\n",
        "1. **Feature Matrix (X):** A feature description  $x_i$ for each node \\( i \\) in the graph, summarized as an \\( N $\\times$ D \\) matrix, where:\n",
        "- \\( N \\): Number of nodes (atoms)\n",
        "- \\( D \\): Number of input features per node\n",
        "2. **Adjacency Matrix (A)**\n",
        "\n",
        "#### *Hidden Representation during Training*:\n",
        "**Node-level 'new' Feature (Z):** The function produces a node-level hidden vector \\( Z \\), which is an \\( N $\\times$ F \\) feature matrix, where:\n",
        "- \\( N \\): Number of nodes (atoms)\n",
        "- \\( F \\): Output dimension.\n",
        "\n",
        "#### *Graph-level Output*:\n",
        "Graph-level outputs can be modeled by introducing a pooling operation, which aggregates the node-level outputs \\( Z \\) into a single representation $\\mathbf{z}$ for the entire graph.\n",
        "\n",
        "Every neural network layer can be written as a non-linear function:\n",
        "$$\n",
        "\\mathbf{H}^{(l+1)} = f(\\mathbf{H}^{(l)}, \\mathbf{A}),\n",
        "$$\n",
        "\n",
        "with $\\mathbf{H}^{(0)} = \\mathbf{X}$ and $\\mathbf{H}^{(L)} = \\mathbf{z}$, where $L$ is the number of layers. The specific models differ only in how $f(\\cdot, \\cdot)$ is chosen and parameterized. While *Message-Passing* on graph is an idea to design the structure of $f(\\cdot, \\cdot)$.\n",
        "\n",
        "## 5.1 Message Passing GNN\n",
        "\n",
        "GNNs rely on message passing methods, where vertices exchange information with their neighbors by sending \"messages\" to each other. Before diving into the equations, let's visually understand how GNNs work. The process can be broken down into two main steps:\n",
        "\n",
        "1. **Message Creation:** Each node creates a feature vector representing the message it intends to send to all its neighbors.\n",
        "\n",
        "2. **Message Passing:** The messages are sent to the neighbors, where each node receives one message from every adjacent node. Below, we visualize these two steps for our example graph.\n",
        "\n",
        " <center><img src=\"https://github.com/matcyr/APBJC2024_GNN_Tutorial/blob/master/Figures/graph_message_passing.svg?raw=1\" alt=\"Graph Message Passing\" style=\"width:700px; padding:10px;\"></center>\n",
        "\n",
        "One simple message-passing neural network can be defined as:\n",
        "$$\n",
        "f(H^l, A) = \\sigma(AH^lW^l)\n",
        "$$\n",
        "\n",
        "There are two limitations:\n",
        "1. For every node, we sum up all the feature vectors of all neighboring nodes but not the node itself!\n",
        "2. Un-normalized A change the scale of the feature vectors.\n",
        "\n",
        "\n",
        "\n",
        "## 5.2 Graph Convolutional Network\n",
        "\n",
        "**Graph Convolutional Network (GCN)** is one example of the Message Passing neural network introduced by [Kipf et al.](https://openreview.net/pdf?id=SJU4ayYgl) in 2016. Unlike traditional convolutional neural networks (CNNs) that operate on grid-like data (such as images), GCNs are designed to generalize the convolution operation to the graph domain. This makes them powerful tools for tasks such as node classification, graph classification, and link prediction.\n",
        "\n",
        "GCN address the limitations by:\n",
        "1. Adding in the self-loop: $\\tilde{A} = A + I$\n",
        "2. Normalize the degree of each node.\n",
        "\n",
        "Formally, the graph convolution operation can be written as:\n",
        "\n",
        "$$\n",
        "H^{(l+1)} = \\sigma(\\tilde{D}^{-1/2} \\tilde{A} \\tilde{D}^{-1/2} H^{(l)} W^{(l)})\n",
        "$$\n",
        "\n",
        "Where:\n",
        "\n",
        "- $\\displaystyle H^{(l)}$ is the feature matrix at layer \\(l\\), of shape [num_node, feature_dim]\n",
        "- $\\displaystyle \\tilde{A} = A + I$ is the adjacency matrix with added self-loops,\n",
        "- $\\displaystyle \\tilde{D}$ is the degree matrix corresponding to $\\tilde{A}$,\n",
        "- $\\displaystyle W^{(l)}$ is the weight matrix at layer \\(l\\), of shape [feature_dim, feature_dim_next]\n",
        "- $\\displaystyle \\sigma$ is an activation function (e.g., ReLU)."
      ]
    },
    {
      "cell_type": "markdown",
      "metadata": {
        "id": "7UQ28YexNpQ0"
      },
      "source": [
        "### Step 1: The GCN Layer\n",
        "In this step, we define the core operation of the Graph Convolutional Network (GCN) layer. The GCN layer performs three main tasks:\n",
        "1. **Message Passing**: This involves aggregating the features from a node’s neighbors, which is done by multiplying the normalized adjacency matrix $\\hat{\\mathbf{A}}$ with the feature matrix $\\mathbf{X}$. This can be expressed as: $$ \\mathbf{H}^{(l+1)} = \\hat{\\mathbf{A}} \\mathbf{H}^{(l)}. $$\n",
        "Where:\n",
        "- $\\hat{\\mathbf{A}} = \\tilde{D}^{-1/2} \\tilde{A} \\tilde{D}^{-1/2}$"
      ]
    },
    {
      "cell_type": "code",
      "execution_count": null,
      "metadata": {
        "id": "JxrUvLtm7M5H"
      },
      "outputs": [],
      "source": [
        "num_nodes = len(atom_types)\n",
        "adj_matrix = np.zeros((num_nodes, num_nodes))\n",
        "for edge in edge_list:\n",
        "    adj_matrix[edge[0], edge[1]] = 1\n",
        "## Add self-loops\n",
        "adj_matrix += np.eye(num_nodes)\n",
        "print(\"Adjacency Matrix with Self-Loops:\")\n",
        "print(adj_matrix)\n",
        "\n",
        "# Normalize the adjacency matrix with the degree matrix\n",
        "degree_matrix = np.diag(np.sum(adj_matrix, axis=1))\n",
        "degree_matrix_inv_sqrt = np.linalg.inv(np.sqrt(degree_matrix))  # D^(-1/2)\n",
        "adj_matrix_normalized = degree_matrix_inv_sqrt @ adj_matrix @ degree_matrix_inv_sqrt  # D^(-1/2) * A * D^(-1/2)\n",
        "print(\"Normalized Adjacency Matrix:\")\n",
        "print(adj_matrix_normalized)"
      ]
    },
    {
      "cell_type": "markdown",
      "metadata": {
        "id": "01vEQemq7M5H"
      },
      "source": [
        "2. **Linear Transformation**: After the message passing step, the GCN applies a linear transformation using a weight matrix $\\mathbf{W}$. The transformed features are given by: $$ \\mathbf{H}^{(l+1)} = \\hat{\\mathbf{A}} \\mathbf{H}^{(l)} \\mathbf{W} $$"
      ]
    },
    {
      "cell_type": "code",
      "execution_count": null,
      "metadata": {
        "id": "NdFTdxr17M5H"
      },
      "outputs": [],
      "source": [
        "# Define the ReLU function\n",
        "def ReLU(x: np.ndarray) -> np.ndarray:\n",
        "    return x * (x > 0)\n",
        "# Dfine the softmax function\n",
        "def softmax(x: np.ndarray) -> np.ndarray:\n",
        "    exp_x = np.exp(x - np.max(x, axis=1, keepdims=True))  # Stabilize softmax\n",
        "    return exp_x / np.sum(exp_x, axis=1, keepdims=True)\n",
        "\n",
        "def gcn_layer(features, adj_norm, weights):\n",
        "    # Perform message passing (adjacency matrix * features)\n",
        "    aggregated_features = adj_norm @ features\n",
        "    # Apply the weight matrix (linear transformation)\n",
        "    transformed_features = aggregated_features @ weights\n",
        "    # Apply an activation function (ReLU)\n",
        "    activated_features = ReLU(transformed_features)  # ReLU\n",
        "    return activated_features\n",
        "\n",
        "# Initialize the node features as the atomic numbers of the atoms\n",
        "atom_feature = np.array(atom_types)\n",
        "\n",
        "# Reshape node features: atomic numbers as 1D features for each node\n",
        "input_features = atom_feature.reshape(-1, 1)  # Shape: (num_nodes, input_dim=1)\n",
        "\n",
        "# Define the output dimension of the GCN layer (number of output features per node)\n",
        "output_dim = 4  # Output dimension of the GCN layer\n",
        "\n",
        "# Initialize random weights for the GCN layer (shape: input_dim x output_dim)\n",
        "seed = 42\n",
        "np.random.seed(seed)\n",
        "weights = np.random.rand(1, output_dim)  # For simplicity, we use 1D input and 4D output\n",
        "\n",
        "print(\"Input Features (Node Features):\")\n",
        "print(input_features.shape)\n",
        "\n",
        "print(\"\\nRandomly Initialized Weights:\")\n",
        "print(weights)"
      ]
    },
    {
      "cell_type": "markdown",
      "metadata": {
        "id": "LA1yGNj07M5H"
      },
      "source": [
        "3. **Activation Function**: To introduce non-linearity, we apply the ReLU (Rectified Linear Unit) activation function, which is defined as: $$ \\text{ReLU}(x) = \\max(0, x) $$ The final output of the GCN layer is the activated feature matrix: $$ \\mathbf{H}^{(l+1)} = \\text{ReLU}(\\hat{\\mathbf{A}} \\mathbf{H}^{(l)} \\mathbf{W}) $$"
      ]
    },
    {
      "cell_type": "code",
      "execution_count": null,
      "metadata": {
        "id": "LpB1Opwi7M5H"
      },
      "outputs": [],
      "source": [
        "gcn_output = gcn_layer(input_features, adj_matrix_normalized, weights)\n",
        "\n",
        "# Output the GCN-transformed node features\n",
        "print(\"GCN Output (Node Features after GCN Layer):\")\n",
        "print(gcn_output.shape)"
      ]
    },
    {
      "cell_type": "markdown",
      "metadata": {
        "id": "_-Q0DZpONpQ1"
      },
      "source": [
        "### Step 2: Defining Pooling Functions for Graph-Level Task (Classification/Regression)\n",
        "\n",
        "In graph classification tasks, we need to aggregate node features into a single graph-level feature vector. This aggregation is achieved through pooling operations. Below are two commonly used pooling methods:\n",
        "\n",
        "#### 1. Global Mean Pooling\n",
        "\n",
        "Global mean pooling computes the average of the node features across all nodes:\n",
        "$$\n",
        "\\mathbf{z} = \\frac{1}{N} \\sum_{i=1}^{N} \\mathbf{h}_i\n",
        "$$\n",
        "where:\n",
        "- \\(\\mathbf{h}_i\\) represents the feature vector of the \\(i\\)-th node,\n",
        "- \\(N\\) is the total number of nodes in the graph.\n",
        "\n",
        "This method effectively summarizes the graph by averaging all node features.\n",
        "\n",
        "#### 2. Global Max Pooling\n",
        "\n",
        "Global max pooling takes the maximum value for each feature across all nodes:\n",
        "$$\n",
        "\\mathbf{z} = \\max_{i=1}^{N} \\mathbf{h}_i\n",
        "$$\n",
        "This method emphasizes the most important or largest feature values in the graph, which can be useful when only certain nodes dominate the representation.\n",
        "\n",
        "We can now define these pooling functions to aggregate node features into a single vector, \\(\\mathbf{z}\\), suitable for graph-level learning tasks such as classification or regression.\n"
      ]
    },
    {
      "cell_type": "markdown",
      "metadata": {
        "id": "DnrXVk6whCcY"
      },
      "source": [
        "### Step 3: Final layout of GNN by multiple GCN layers"
      ]
    },
    {
      "cell_type": "markdown",
      "metadata": {
        "id": "JlqOg9tqhCcY"
      },
      "source": [
        "The GNN can be build up by a sequence of GCN layers and non-linearities such as ReLU. For a visualization, see below (figure credit - [Thomas Kipf, 2016](https://tkipf.github.io/graph-convolutional-networks/)).\n",
        "\n",
        "<center width=\"100%\" style=\"padding: 10px\"><img src=\"https://github.com/matcyr/APBJC2024_GNN_Tutorial/blob/master/Figures/gcn_network.png?raw=1\" width=\"600px\"></center>\n"
      ]
    },
    {
      "cell_type": "markdown",
      "metadata": {
        "id": "nFqQdRQRhCcY"
      },
      "source": [
        "## 5.3 Graph Isomorphism Network\n",
        "**Graph Isomorphism Network (GIN)** is another type of message-passing GNN by [Xu et al.](https://arxiv.org/abs/1810.00826v3) in 2018.\n",
        "The update rule for node features in GIN is given by:\n",
        "$$ \\mathbf{h}_v^{(k+1)} = \\text{MLP}\\left( (1 + \\epsilon^{(k)}) \\cdot \\mathbf{h}_v^{(k)} + \\sum_{u \\in \\mathcal{N}(v)} \\mathbf{h}_u^{(k)} \\right) $$\n",
        "\n",
        "### Explanation:\n",
        "- $\\mathbf{h}_v^{(k)}$: The feature vector of node $v$ at the $k$-th layer.\n",
        "- $\\mathcal{N}(v)$: The set of neighbors of node $v$. - $\\epsilon^{(k)}$: A learnable parameter at the $k$-th layer.\n",
        "- **MLP**: A Multi-Layer Perceptron, which is applied after the aggregation step to update the node features.\n",
        " The key feature of GIN is the addition of the learnable parameter $\\epsilon^{(k)}$, which controls how much of the node's own feature is retained during the message passing process. This makes GIN more powerful at distinguishing graphs than simpler aggregation schemes like summing or averaging."
      ]
    },
    {
      "cell_type": "markdown",
      "metadata": {
        "id": "PLwhoSlzhCcY"
      },
      "source": [
        "In the next section, we will use GCN and GIN to build the drug response prediction model."
      ]
    },
    {
      "cell_type": "markdown",
      "metadata": {
        "id": "_kaZNl3vNpQ1"
      },
      "source": [
        "# 6. Graph Neural Network for Drug Response Prediction\n",
        "Here, we implemented the drug response model GraphDRP developed by Tuan Nguyen et al."
      ]
    },
    {
      "cell_type": "markdown",
      "metadata": {
        "id": "bhYYDirGNpQ1"
      },
      "source": [
        "\n",
        "<img src=\"https://github.com/matcyr/APBJC2024_GNN_Tutorial/blob/master/Figures/GraphDRP.png?raw=1\" alt=\"DRP Pipeline\" width=\"800\" height=\"200\">\n",
        "\n",
        "\n",
        "*An illustration of GraphDRP. Graph Convolutional Networks for Drug Response Prediction. IEEE/ACM Trans Comput Biol Bioinform. 2022;19(1):146-154.*"
      ]
    },
    {
      "cell_type": "markdown",
      "metadata": {
        "id": "up7iz01JNpQ2"
      },
      "source": [
        "### Next part is for training, while we only show inference the model at the tutorial."
      ]
    },
    {
      "cell_type": "markdown",
      "metadata": {
        "id": "NYZnYcCW7M5H"
      },
      "source": [
        "We have extended version provided in [Github](https://github.com/matcyr/APBJC2024_GNN_Tutorial/tree/master/notebooks)."
      ]
    },
    {
      "cell_type": "code",
      "execution_count": null,
      "metadata": {
        "id": "wyefyVZmNpQ2"
      },
      "outputs": [],
      "source": [
        "# learning_rate = 1e-3\n",
        "# num_epochs = 31\n",
        "# device = torch.device('cuda')\n",
        "# for conv_type in ['GIN', 'GCN']:\n",
        "#     model = DrpModel(graph_conv=conv_type).to(device)\n",
        "#                 # Loss and optimizer\n",
        "#     criterion = nn.MSELoss()\n",
        "#     optimizer = torch.optim.Adam(model.parameters(), lr=learning_rate)\n",
        "#     best_val_rmse = 20\n",
        "#     best_rmse = 20\n",
        "#     best_mae = 2\n",
        "#     best_r2 = -2\n",
        "#     best_pcc = -2\n",
        "#     patient = 0\n",
        "#     best_epoch = 0\n",
        "\n",
        "#     for epoch in range(num_epochs):\n",
        "#         train_loss = train(model, train_loader, criterion, optimizer, device)\n",
        "#         print(f'Epoch [{epoch+1}/{num_epochs}], Train Loss: {train_loss:.4f}')\n",
        "#         if epoch % 5 == 0:\n",
        "#             predictions, true_values = test(model, test_loader, device)\n",
        "#             best_rmse, best_mae, best_r2, best_pcc = test_metric(true_values, predictions)\n",
        "#             print(f'Epoch [{epoch+1}/{num_epochs}], \\n'\n",
        "#                 f'Test RMSE: {best_rmse:.4f}, Test MAE: {best_mae:.4f}, Test R2: {best_r2:.4f}, Test PCC: {best_pcc:.4f}')\n",
        "#     print(\"Training completed.\")\n",
        "#     if not os.path.exists('../weights/'):\n",
        "#         os.makedirs('../weights/')\n",
        "#     torch.save(model.state_dict(), f'../weights/{conv_type}_model.pth')"
      ]
    },
    {
      "cell_type": "code",
      "execution_count": null,
      "metadata": {
        "id": "oZ9mv1u1NpQ2"
      },
      "outputs": [],
      "source": [
        "device = 'cpu'\n",
        "## Get the max artomic number\n",
        "max_atom_num = max([max(atom_types) for atom_types in df_processed['atom_types']]) + 1\n",
        "num_genes = processor.exp_df.shape[1]\n",
        "## Define the model!\n",
        "model_GIN = DrpModel(max_atom_num = max_atom_num, num_genes = num_genes, graph_conv='GIN')\n",
        "model_GCN = DrpModel(max_atom_num = max_atom_num, num_genes = num_genes,\n",
        "graph_conv='GCN')\n",
        "## Load the weight from gpu to cpu\n",
        "model_GIN.load_state_dict(torch.load('../weights/GIN_model.pth', map_location=torch.device('cpu'), weights_only = False))\n",
        "model_GCN.load_state_dict(torch.load('../weights/GCN_model.pth', map_location=torch.device('cpu'), weights_only = False))"
      ]
    },
    {
      "cell_type": "code",
      "execution_count": null,
      "metadata": {
        "id": "6SoJAVuohCcY"
      },
      "outputs": [],
      "source": [
        "model_GIN"
      ]
    },
    {
      "cell_type": "markdown",
      "metadata": {
        "id": "2eBQ1_e3hCcZ"
      },
      "source": [
        "### Let's make the prediction using the loaded model:"
      ]
    },
    {
      "cell_type": "code",
      "execution_count": null,
      "metadata": {
        "id": "tedkxZNPNpQ2"
      },
      "outputs": [],
      "source": [
        "predictions, true_values = test(model_GIN, test_loader, device)\n",
        "predictions_GCN, true_values_GCN = test(model_GCN, test_loader, device)"
      ]
    },
    {
      "cell_type": "markdown",
      "metadata": {
        "id": "ksEexbeOhCcZ"
      },
      "source": [
        "### What's the prediction performance!"
      ]
    },
    {
      "cell_type": "markdown",
      "metadata": {
        "id": "rklM5_Y-hCcZ"
      },
      "source": [
        "### Evaluation metrices.\n",
        "\n",
        "$y_i$: True IC50 value.\n",
        "\n",
        "$\\hat{y}_i$: Predicted IC50 value.\n",
        "1. **Mean Squared Error (MSE)**:  \n",
        "$$\n",
        "\\text{MSE} = \\frac{1}{n} \\sum_{i=1}^{n} (y_i - \\hat{y}_i)^2\n",
        "$$\n",
        "- Lower MSE is better, as it indicates less error between the predicted and actual values.\n",
        "\n",
        "2. **Mean Absolute Error (MAE)**:  \n",
        "$$\n",
        "\\text{MAE} = \\frac{1}{n} \\sum_{i=1}^{n} |y_i - \\hat{y}_i|\n",
        "$$\n",
        "- Lower MAE is better, indicating less deviation from the true values.\n",
        "\n",
        "3. **R-squared (R²)**:  \n",
        "$$\n",
        "R^2 = 1 - \\frac{\\sum_{i=1}^{n} (y_i - \\hat{y}_i)^2}{\\sum_{i=1}^{n} (y_i - \\bar{y})^2}\n",
        "$$\n",
        "- Higher R² is better, as it shows that the model explains more variance of the data.\n",
        "\n",
        "4. **Pearson Correlation Coefficient (PCC)**:  \n",
        "$$\n",
        "\\text{PCC} = \\frac{\\sum_{i=1}^{n} (y_i - \\bar{y})(\\hat{y}_i - \\overline{\\hat{y}})}{\\sqrt{\\sum_{i=1}^{n} (y_i - \\bar{y})^2} \\sqrt{\\sum_{i=1}^{n} (\\hat{y}_i - \\overline{\\hat{y}})^2}}\n",
        "$$\n",
        "- Higher PCC is better, as it indicates stronger linear correlation between actual and predicted values.\n",
        "\n"
      ]
    },
    {
      "cell_type": "code",
      "execution_count": null,
      "metadata": {
        "id": "nf0HK8YVhCcZ"
      },
      "outputs": [],
      "source": [
        "rmse, mae, r2, pcc = test_metric(true_values, predictions)\n",
        "rmse_GCN, mae_GCN, r2_GCN, pcc_GCN = test_metric(true_values_GCN, predictions_GCN)\n",
        "## Conver the prediction back to the dataframe\n",
        "result_df = pd.DataFrame(columns = ['RMSE', 'MAE', 'R2', 'PCC'])\n",
        "test_df['Predicted IC50 GIN'] = predictions\n",
        "test_df['Predicted IC50 GCN'] = predictions_GCN"
      ]
    },
    {
      "cell_type": "code",
      "execution_count": null,
      "metadata": {
        "id": "SM1wDPCkhCcZ"
      },
      "outputs": [],
      "source": [
        "test_df.head()"
      ]
    },
    {
      "cell_type": "code",
      "execution_count": null,
      "metadata": {
        "id": "gH42P9H5NpQ3"
      },
      "outputs": [],
      "source": [
        "## Scatter plot for the prediction\n",
        "plt.figure(figsize=(8, 6))\n",
        "plt.scatter(test_df['LN_IC50'], test_df['Predicted IC50 GIN'], alpha=0.5, label=f'GIN: RMSE={rmse:.2f}, R2={r2:.2f}')\n",
        "plt.scatter(test_df['LN_IC50'], test_df['Predicted IC50 GCN'], alpha=0.5, label=f'GCN: RMSE={rmse_GCN:.2f}, R2={r2_GCN:.2f}')\n",
        "plt.xlabel('True IC50 (LN scale)')\n",
        "plt.ylabel('Predicted IC50 (LN scale)')\n",
        "plt.title('True vs Predicted IC50')\n",
        "plt.legend()\n",
        "plt.show()"
      ]
    },
    {
      "cell_type": "code",
      "execution_count": null,
      "metadata": {
        "id": "o4JSvwhBNpQ3"
      },
      "outputs": [],
      "source": [
        "cancer_meta_df = processor.df[['COSMIC_ID', 'TCGA_DESC']].drop_duplicates()\n",
        "drug_meta_df = processor.drug_meta[['PubCHEM', 'Target pathway']]\n",
        "test_df = cancer_meta_df.merge(test_df, on='COSMIC_ID')\n",
        "test_df = test_df.merge(drug_meta_df, on='PubCHEM')"
      ]
    },
    {
      "cell_type": "markdown",
      "metadata": {
        "id": "-61bdhZZNpQ4"
      },
      "source": [
        "### What about the performance between drugs?"
      ]
    },
    {
      "cell_type": "code",
      "execution_count": null,
      "metadata": {
        "id": "kVFDusnGNpQ4"
      },
      "outputs": [],
      "source": [
        "drug_result_df = get_per_drug_df(test_df=test_df, pred_col = 'Predicted IC50 GIN')\n",
        "drug_result_df.sort_values('RMSE', ascending=False, inplace=True)"
      ]
    },
    {
      "cell_type": "code",
      "execution_count": null,
      "metadata": {
        "id": "Aq9-NhrjNpQ4"
      },
      "outputs": [],
      "source": [
        "drug_result_df"
      ]
    },
    {
      "cell_type": "code",
      "execution_count": null,
      "metadata": {
        "id": "oeIWYgkdNpQ4"
      },
      "outputs": [],
      "source": [
        "## Set the PubCHEM column to numeric\n",
        "test_df['PubCHEM'] = pd.to_numeric(test_df['PubCHEM'], errors='coerce')\n",
        "test_df['COSMIC_ID'] = pd.to_numeric(test_df['COSMIC_ID'], errors='coerce')\n",
        "train_df['PubCHEM'] = pd.to_numeric(train_df['PubCHEM'], errors='coerce')\n",
        "train_df['COSMIC_ID'] = pd.to_numeric(train_df['COSMIC_ID'], errors='coerce')"
      ]
    },
    {
      "cell_type": "code",
      "execution_count": null,
      "metadata": {
        "id": "oMImPJlLNpQ5"
      },
      "outputs": [],
      "source": [
        "## Set the index of drug_result_df to numeric\n",
        "drug_result_df.index = pd.to_numeric(drug_result_df.index, errors='coerce')\n",
        "drug_smiles_df['PubCHEM'] = pd.to_numeric(drug_smiles_df['PubCHEM'], errors='coerce')"
      ]
    },
    {
      "cell_type": "code",
      "execution_count": null,
      "metadata": {
        "id": "CLumoRgmNpQ5"
      },
      "outputs": [],
      "source": [
        "## Visualize the RMSE for each drug\n",
        "drug_1 = 6914657\n",
        "drug_2 = 104741\n",
        "\n",
        "# Create a figure with 1 row and 2 columns\n",
        "fig, ((ax3, ax4), (ax1, ax2)) = plt.subplots(2, 2, figsize=(10, 8))\n",
        "\n",
        "# Subplot 1: True vs Predicted IC50 for ACC\n",
        "sub_df_1 = test_df[test_df['PubCHEM'] == drug_1]\n",
        "ax1.scatter(sub_df_1['LN_IC50'], sub_df_1['Predicted IC50 GIN'], alpha=0.5, label=f'RMSE={drug_result_df.loc[drug_1, \"RMSE\"]:.2f} \\n R2={drug_result_df.loc[drug_1, \"R2\"]:.2f}')\n",
        "ax1.set_xlabel('True IC50 (LN scale)')\n",
        "ax1.set_ylabel('Predicted IC50 (LN scale)')\n",
        "ax1.set_title(f'True vs Predicted IC50 for {drug_1} using GIN')\n",
        "ax1.text(0.05, 0.95, f'RMSE={drug_result_df.loc[drug_1, \"RMSE\"]:.2f}\\nR²={drug_result_df.loc[drug_1, \"R2\"]:.2f}',\n",
        "         transform=ax1.transAxes, verticalalignment='top', fontsize=10, bbox=dict(facecolor='white', alpha=0.5))\n",
        "\n",
        "# Subplot 2: True vs Predicted IC50 for STAD\n",
        "sub_df_2 = test_df[test_df['PubCHEM'] == drug_2]\n",
        "ax2.scatter(sub_df_2['LN_IC50'], sub_df_2['Predicted IC50 GIN'], alpha=0.5, color='orange')\n",
        "ax2.set_xlabel('True IC50 (LN scale)')\n",
        "ax2.set_ylabel('Predicted IC50 (LN scale)')\n",
        "ax2.set_title(f'True vs Predicted IC50 for {drug_2} using GIN')\n",
        "ax2.text(0.05, 0.95, f'RMSE={drug_result_df.loc[drug_2, \"RMSE\"]:.2f}\\nR²={drug_result_df.loc[drug_2, \"R2\"]:.2f}',\n",
        "         transform=ax2.transAxes, verticalalignment='top', fontsize=10, bbox=dict(facecolor='white', alpha=0.5))\n",
        "# Adjust the layout\n",
        "\n",
        "drug_1_smiles = drug_smiles_df[drug_smiles_df.PubCHEM == drug_1].SMILES.values[0]\n",
        "drug_2_smiles = drug_smiles_df[drug_smiles_df.PubCHEM == drug_2].SMILES.values[0]\n",
        "molecule = Chem.MolFromSmiles(drug_1_smiles)\n",
        "# Check if molecule is valid\n",
        "if molecule is None:\n",
        "    print(\"Invalid SMILES string\")\n",
        "else:\n",
        "    # Visualize the molecular structure\n",
        "    img = Draw.MolToImage(molecule)\n",
        "    ax3.set_title(f'Molecule for Drug {drug_1}')\n",
        "    # Display the molecular graph\n",
        "    ax3.imshow(img)\n",
        "    ax3.axis('off')\n",
        "    # ax1.show()\n",
        "    img2 = Draw.MolToImage(Chem.MolFromSmiles(drug_2_smiles), size=(300, 300))\n",
        "    ax4.set_title(f'Molecule for Drug {drug_2}')\n",
        "    ax4.imshow(img2)\n",
        "    ax4.axis('off')\n",
        "\n",
        "\n",
        "plt.tight_layout()\n",
        "plt.show()"
      ]
    },
    {
      "cell_type": "markdown",
      "metadata": {
        "id": "QJlu0ZGRNpQ5"
      },
      "source": [
        "### Let's compare the results with the linear regression!"
      ]
    },
    {
      "cell_type": "code",
      "execution_count": null,
      "metadata": {
        "id": "7bnj4QTZNpQ5"
      },
      "outputs": [],
      "source": [
        "## Train the Lasso-regression model\n",
        "from sklearn.linear_model import Lasso\n",
        "linear_result_df = pd.DataFrame(columns = ['RMSE', 'MAE', 'R2', 'PCC'])\n",
        "def per_drug_lasso(drug):\n",
        "    sub_train_df = train_df[train_df.PubCHEM == drug]\n",
        "    sub_test_df = test_df[test_df.PubCHEM == drug][['PubCHEM',\t'COSMIC_ID',\t'LN_IC50']]\n",
        "    X_train = sub_train_df.merge(processor.exp_df, left_on='COSMIC_ID', right_index=True).drop(columns=['COSMIC_ID', 'PubCHEM', 'LN_IC50'])\n",
        "    X_train = X_train.values\n",
        "    y_train = sub_train_df['LN_IC50']\n",
        "    X_test = sub_test_df.merge(processor.exp_df, left_on='COSMIC_ID', right_index=True).drop(columns=['COSMIC_ID', 'PubCHEM', 'LN_IC50'])\n",
        "    X_test = X_test.values\n",
        "    y_test = sub_test_df['LN_IC50']\n",
        "    model = Lasso(alpha=0.1)\n",
        "    model.fit(X_train, y_train)\n",
        "    predictions = model.predict(X_test)\n",
        "    rmse = root_mean_squared_error(y_test, predictions)\n",
        "    mae = mean_absolute_error(y_test, predictions)\n",
        "    r2 = r2_score(y_test, predictions)\n",
        "    pcc, _ = pearsonr(y_test, predictions)\n",
        "    return rmse, mae, r2, pcc"
      ]
    },
    {
      "cell_type": "code",
      "execution_count": null,
      "metadata": {
        "id": "jwawrnxxNpQ5"
      },
      "outputs": [],
      "source": [
        "for drug in test_df['PubCHEM'].unique():\n",
        "    rmse, mae, r2, pcc = per_drug_lasso(drug)\n",
        "    linear_result_df.loc[drug, 'RMSE'] = rmse\n",
        "    linear_result_df.loc[drug, 'MAE'] = mae\n",
        "    linear_result_df.loc[drug, 'R2'] = r2\n",
        "    linear_result_df.loc[drug, 'PCC'] = pcc"
      ]
    },
    {
      "cell_type": "code",
      "execution_count": null,
      "metadata": {
        "id": "mnjEeNj5NpQ6"
      },
      "outputs": [],
      "source": [
        "linear_result_df.sort_values('RMSE', ascending=False, inplace=True)\n",
        "combined_df = drug_result_df.merge(linear_result_df, left_index=True, right_index=True, suffixes=('_GIN', '_Lasso'))"
      ]
    },
    {
      "cell_type": "code",
      "execution_count": null,
      "metadata": {
        "id": "uUFeMvRANpQ6"
      },
      "outputs": [],
      "source": [
        "import seaborn as sns\n",
        "\n",
        "combined_df['RMSE_GIN'] = pd.to_numeric(combined_df['RMSE_GIN'], errors='coerce')\n",
        "combined_df['RMSE_Lasso'] = pd.to_numeric(combined_df['RMSE_Lasso'], errors='coerce')\n",
        "\n",
        "# Drop any rows with NaN values\n",
        "combined_df = combined_df.dropna(subset=['RMSE_GIN', 'RMSE_Lasso'])\n",
        "joint_plot = sns.jointplot(x=combined_df['RMSE_GIN'], y=combined_df['RMSE_Lasso'], color=\"#3C5488FF\", height= 5, ratio=5)\n",
        "joint_plot.set_axis_labels(\"GIN\", \"Lasso\", fontsize=12)\n",
        "joint_plot.fig.set_figwidth(6)\n",
        "joint_plot.fig.suptitle('RMSE Comparison between GIN and Lasso for each drug')\n",
        "joint_plot.fig.tight_layout()\n",
        "# Add y = x line\n",
        "ax = joint_plot.ax_joint\n",
        "lims = [np.min([ax.get_xlim(), ax.get_ylim()]), np.max([ax.get_xlim(), ax.get_ylim()])]\n",
        "ax.plot(lims, lims, '--', alpha=0.7, zorder=0)  # Red dashed line for y = x\n",
        "ax.set_xlim(lims)\n",
        "ax.set_ylim(lims)\n",
        "\n",
        "# Compute Pearson correlation coefficient and p-value\n",
        "correlation, p_value = pearsonr(combined_df['RMSE_GIN'], combined_df['RMSE_Lasso'])\n",
        "\n",
        "## Display the mean and median RMSE for Lasso\n",
        "mean_rmse_lasso = combined_df['RMSE_Lasso'].mean()\n",
        "median_rmse_lasso = combined_df['RMSE_Lasso'].median()\n",
        "plt.text(0.05, 0.85, f'Mean RMSE: {mean_rmse_lasso:.2f} \\nMedian RMSE: {median_rmse_lasso:.2f}',\n",
        "         transform=ax.transAxes, verticalalignment='top', fontsize=10, bbox=dict(facecolor='white', alpha=0.5))\n",
        "mean_rmse_gin = combined_df['RMSE_GIN'].mean()\n",
        "median_rmse_gin = combined_df['RMSE_GIN'].median()\n",
        "plt.text(0.55, 0.15, f'Mean RMSE: {mean_rmse_gin:.2f} \\nMedian RMSE: {median_rmse_gin:.2f}',\n",
        "         transform=ax.transAxes, verticalalignment='top', fontsize=10, bbox=dict(facecolor='white', alpha=0.5))\n"
      ]
    },
    {
      "cell_type": "markdown",
      "metadata": {
        "id": "KwaguuW2NpQ6"
      },
      "source": [
        "# 7. Conclusion\n",
        "\n",
        "In this notebook, we explored the application of Graph Neural Networks (GNNs) for drug response prediction, focusing on predicting IC50 values across various cancer cell lines. Through the integration of molecular graphs (representing drugs) and gene expression data (representing cancer cell lines), we demonstrated the effectiveness of GNN-based models in capturing complex relationships between drug structure and cancer cell behavior.\n",
        "\n",
        "## Key takeaways from this notebook include:\n",
        "\n",
        "1. **Data Processing**: We processed the GDSC2 dataset, combining drug features (derived from SMILES) and cancer cell line features (derived from gene expression data) to build a robust dataset for drug response prediction.\n",
        "   \n",
        "2. **Model Training**: We trained a Graph Neural Network (GNN) model to predict the drug response (IC50 values) for different cancer cell lines. By treating each drug as a graph, the GNN was able to learn intricate molecular relationships that influence drug efficacy.\n",
        "\n",
        "3. **Baseline Comparison**: The GNN model's performance was compared to a baseline model (Lasso regression). The GNN outperformed Lasso in terms of key metrics such as RMSE and R², demonstrating its superior ability to model the interactions between drugs and cell lines.\n",
        "\n",
        "4. **Model Evaluation**: Visualizations of predicted vs. true IC50 values for specific cancer types showed that the GNN model provides more accurate predictions, closely matching the true drug responses.\n",
        "\n",
        "- **GNN Model**: Achieved strong predictive performance by leveraging molecular graph structures, capturing complex drug-cell interactions that other linear models (such as Lasso) may miss.\n",
        "- **Baseline Model**: Although Lasso is a reliable model for simpler prediction tasks, it was outperformed by the GNN model, highlighting the benefits of using deep learning models for drug response prediction.\n",
        "\n",
        "Graph Neural Networks (GNNs) offer a powerful approach for drug response prediction, outperforming traditional models like Lasso in this task. The ability of GNNs to model molecular structures as graphs allows for a more nuanced understanding of drug efficacy, making them a promising tool in precision oncology and pharmacogenomics. This work demonstrates the potential of GNNs in drug discovery, where accurate prediction of drug response is critical for developing targeted cancer therapies.\n",
        "\n"
      ]
    }
  ],
  "metadata": {
    "colab": {
      "provenance": [],
      "include_colab_link": true
    },
    "kernelspec": {
      "display_name": "drug_response_env",
      "language": "python",
      "name": "python3"
    },
    "language_info": {
      "codemirror_mode": {
        "name": "ipython",
        "version": 3
      },
      "file_extension": ".py",
      "mimetype": "text/x-python",
      "name": "python",
      "nbconvert_exporter": "python",
      "pygments_lexer": "ipython3",
      "version": "3.9.18"
    }
  },
  "nbformat": 4,
  "nbformat_minor": 0
}